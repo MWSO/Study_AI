{
  "nbformat": 4,
  "nbformat_minor": 0,
  "metadata": {
    "kernelspec": {
      "display_name": "Python 3",
      "language": "python",
      "name": "python3"
    },
    "language_info": {
      "codemirror_mode": {
        "name": "ipython",
        "version": 3
      },
      "file_extension": ".py",
      "mimetype": "text/x-python",
      "name": "python",
      "nbconvert_exporter": "python",
      "pygments_lexer": "ipython3",
      "version": "3.8.5"
    },
    "colab": {
      "provenance": [],
      "collapsed_sections": [
        "dDP-aUQNqcoo",
        "i1IlMx1eqcoo",
        "Wv4YRMk9qcoo",
        "no38zUR2qcop",
        "2Pc0rI-xqcop",
        "RkojZoQbqcop",
        "LILT6ziQqcoq",
        "ear19xTOqcoq",
        "W_pYagiVqcor",
        "wLCwbANmqcos",
        "MaeHqEkLqcot",
        "cskUyL8Qqcot",
        "IKuoSeNFqcot",
        "bqjNf3ypqcou",
        "T07jG5Qgqcou",
        "-Zus1b_Kqcou",
        "SYqNFmq_qcou",
        "zxiS0Tbtqcov",
        "aZLTtX02qcov",
        "NvRn_Hnbqcov",
        "nCW3NaErqcow",
        "Zt82Nt53qcow",
        "3dDZkDHqqcox",
        "rEclON44qcox",
        "C6HZsi-Xqcox",
        "F3Hd4fEMqcoy",
        "R-nn2c0Mqcoy",
        "U_60HT4Eqcoy",
        "rMhgs9C6qcoz",
        "KjVwgxisqcoz",
        "4VgbhO2Tqcoz",
        "2nAD7Yf_qcoz",
        "WxwXz9Nmqco0",
        "qk7VMZmfqco0",
        "VnHo1fSLqco0",
        "SrzY4woTqco0",
        "pmeni0w8qco1",
        "WnTDo8zsqco1",
        "eBidq00Hqco1",
        "6zEkMEf0qco1",
        "BC3KGA-mqco2"
      ],
      "include_colab_link": true
    }
  },
  "cells": [
    {
      "cell_type": "markdown",
      "metadata": {
        "id": "view-in-github",
        "colab_type": "text"
      },
      "source": [
        "<a href=\"https://colab.research.google.com/github/MWSO/Study_AI/blob/main/natural_language_editor.ipynb\" target=\"_parent\"><img src=\"https://colab.research.google.com/assets/colab-badge.svg\" alt=\"Open In Colab\"/></a>"
      ]
    },
    {
      "cell_type": "markdown",
      "metadata": {
        "id": "i95Lt_tSqcoh"
      },
      "source": [
        "# 自然言語処理実装 for Google Colab"
      ]
    },
    {
      "cell_type": "markdown",
      "metadata": {
        "id": "nnomOLy9qcoj"
      },
      "source": [
        "1. 文字の扱い方について学習します。（8問）\n",
        "    - 文字の加工、処理方法について学習します。\n",
        "2. 正規表現の扱い方について学習します。（11問）\n",
        "    - 正規表現を用いた文字の加工方法について学習します。\n",
        "3. MeCabについて学習します。（6問）\n",
        "    - MeCabを用いた文章の「分かち書き」、「形態素解析」について学習します。\n",
        "4. Word2vecについて学習します。（12問）\n",
        "    - 実際の文章データを使用して、整形からWord2vecの計算まで行います。\n",
        "5. tf-idfについて学習します。（4問）\n",
        "    - tf-idfの計算方法について学習します。"
      ]
    },
    {
      "cell_type": "markdown",
      "metadata": {
        "id": "iXVBvHa0qcoj"
      },
      "source": [
        "### 0. 事前準備"
      ]
    },
    {
      "cell_type": "markdown",
      "metadata": {
        "id": "28bpLzG9qcok"
      },
      "source": [
        "#### 0.1 必要なライブラリをインストールして下さい。\n",
        "- 5〜15分程度かかることがあります。\n",
        "---"
      ]
    },
    {
      "cell_type": "code",
      "metadata": {
        "id": "E5B6npqMqoVh",
        "colab": {
          "base_uri": "https://localhost:8080/"
        },
        "outputId": "58fe300a-64ac-4158-ed37-4fe5b9179097"
      },
      "source": [
        "!apt install aptitude\n",
        "!aptitude install mecab libmecab-dev mecab-ipadic-utf8 git make curl xz-utils file -y\n",
        "!pip install mecab-python3\n",
        "!pip install unidic-lite\n",
        "!pip install janome\n",
        "!pip install gensim"
      ],
      "execution_count": 5,
      "outputs": [
        {
          "output_type": "stream",
          "name": "stdout",
          "text": [
            "Reading package lists... Done\n",
            "Building dependency tree       \n",
            "Reading state information... Done\n",
            "aptitude is already the newest version (0.8.12-1ubuntu4).\n",
            "0 upgraded, 0 newly installed, 0 to remove and 22 not upgraded.\n",
            "mecab is already installed at the requested version (0.996-10build1)\n",
            "libmecab-dev is already installed at the requested version (0.996-10build1)\n",
            "mecab-ipadic-utf8 is already installed at the requested version (2.7.0-20070801+main-2.1)\n",
            "git is already installed at the requested version (1:2.25.1-1ubuntu3.10)\n",
            "make is already installed at the requested version (4.2.1-1.2)\n",
            "curl is already installed at the requested version (7.68.0-1ubuntu2.16)\n",
            "xz-utils is already installed at the requested version (5.2.4-1ubuntu1.1)\n",
            "file is already installed at the requested version (1:5.38-4)\n",
            "mecab is already installed at the requested version (0.996-10build1)\n",
            "libmecab-dev is already installed at the requested version (0.996-10build1)\n",
            "mecab-ipadic-utf8 is already installed at the requested version (2.7.0-20070801+main-2.1)\n",
            "git is already installed at the requested version (1:2.25.1-1ubuntu3.10)\n",
            "make is already installed at the requested version (4.2.1-1.2)\n",
            "curl is already installed at the requested version (7.68.0-1ubuntu2.16)\n",
            "xz-utils is already installed at the requested version (5.2.4-1ubuntu1.1)\n",
            "file is already installed at the requested version (1:5.38-4)\n",
            "No packages will be installed, upgraded, or removed.\n",
            "0 packages upgraded, 0 newly installed, 0 to remove and 22 not upgraded.\n",
            "Need to get 0 B of archives. After unpacking 0 B will be used.\n",
            "\n",
            "Looking in indexes: https://pypi.org/simple, https://us-python.pkg.dev/colab-wheels/public/simple/\n",
            "Collecting mecab-python3\n",
            "  Downloading mecab_python3-1.0.6-cp39-cp39-manylinux_2_17_x86_64.manylinux2014_x86_64.whl (581 kB)\n",
            "\u001b[2K     \u001b[90m━━━━━━━━━━━━━━━━━━━━━━━━━━━━━━━━━━━━━━━\u001b[0m \u001b[32m581.5/581.5 KB\u001b[0m \u001b[31m9.5 MB/s\u001b[0m eta \u001b[36m0:00:00\u001b[0m\n",
            "\u001b[?25hInstalling collected packages: mecab-python3\n",
            "Successfully installed mecab-python3-1.0.6\n",
            "Looking in indexes: https://pypi.org/simple, https://us-python.pkg.dev/colab-wheels/public/simple/\n",
            "Requirement already satisfied: unidic-lite in /usr/local/lib/python3.9/dist-packages (1.0.8)\n",
            "Looking in indexes: https://pypi.org/simple, https://us-python.pkg.dev/colab-wheels/public/simple/\n",
            "Requirement already satisfied: janome in /usr/local/lib/python3.9/dist-packages (0.4.2)\n",
            "Looking in indexes: https://pypi.org/simple, https://us-python.pkg.dev/colab-wheels/public/simple/\n",
            "Requirement already satisfied: gensim in /usr/local/lib/python3.9/dist-packages (3.6.0)\n",
            "Requirement already satisfied: six>=1.5.0 in /usr/local/lib/python3.9/dist-packages (from gensim) (1.15.0)\n",
            "Requirement already satisfied: scipy>=0.18.1 in /usr/local/lib/python3.9/dist-packages (from gensim) (1.10.1)\n",
            "Requirement already satisfied: numpy>=1.11.3 in /usr/local/lib/python3.9/dist-packages (from gensim) (1.22.4)\n",
            "Requirement already satisfied: smart-open>=1.2.1 in /usr/local/lib/python3.9/dist-packages (from gensim) (6.3.0)\n"
          ]
        }
      ]
    },
    {
      "cell_type": "markdown",
      "metadata": {
        "id": "R5LEESTsqcok"
      },
      "source": [
        "#### 0.2 必要なモジュールを読み込んで下さい。"
      ]
    },
    {
      "cell_type": "code",
      "metadata": {
        "id": "FYYTeB7Uqcol"
      },
      "source": [
        "import MeCab\n",
        "import pandas as pd\n",
        "import warningｓ\n",
        "import os\n",
        "\n",
        "warnings.simplefilter('ignore')"
      ],
      "execution_count": 6,
      "outputs": []
    },
    {
      "cell_type": "markdown",
      "metadata": {
        "id": "vEjd43b8qwwF"
      },
      "source": [
        "#### 0.3 必要なフォルダとファイルを準備してください。\n",
        "1. 画面左側のフォルダアイコンをクリックしてください。\n",
        "2. クリックしてしばらく待つと、`sample_data`というフォルダが表示されます。この状態になったらフォルダを追加できます。\n",
        "3. フォルダが表示されているエリアの空白を右クリックし、「フォルダを追加」をクリックします。\n",
        "4. 作成したフォルダの名前を `latest-ja-word2vec-gensim-model` に変更します。\n",
        "5. ダウンロードした課題フォルダを開き `latest-ja-word2vec-gensim-model` のフォルダ内にあるファイルを、4で作成したGoogle Colab側の`latest-ja-word2vec-gensim-model` フォルダにアップロードします。(5〜15分程度かかることがあります。)\n",
        "  - word2vec.gensim.model\n",
        "  - word2vec.gensim.model.syn1neg.npy\n",
        "  - word2vec.gensim.model.wv.syn0.npy"
      ]
    },
    {
      "cell_type": "markdown",
      "metadata": {
        "id": "BU9uoEp0qcol"
      },
      "source": [
        "#### 0.4 以下のコードを実行して、学習済みモデルのファイルが存在しているかを確認して下さい。\n",
        "- 存在していればTrueと出力されます\n",
        "- Falseと表示された場合、0.3の手順がうまくいっていない可能性があります。\n",
        "  - フォルダとファイルが正しい名前になっているか、再度確認してください。\n",
        "#### ※参考サイト：「 https://aial.shiroyagi.co.jp/2017/02/japanese-word2vec-model-builder/ 」"
      ]
    },
    {
      "cell_type": "code",
      "metadata": {
        "id": "uYidCZV-qcom",
        "colab": {
          "base_uri": "https://localhost:8080/"
        },
        "outputId": "340fbe0c-402a-47cd-a781-cd1c584c01a9"
      },
      "source": [
        "trained_model_path = './latest-ja-word2vec-gensim-model/word2vec.gensim.model'\n",
        "os.path.isfile(trained_model_path)"
      ],
      "execution_count": 7,
      "outputs": [
        {
          "output_type": "execute_result",
          "data": {
            "text/plain": [
              "True"
            ]
          },
          "metadata": {},
          "execution_count": 7
        }
      ]
    },
    {
      "cell_type": "markdown",
      "metadata": {
        "id": "0iaiqOFOqcom"
      },
      "source": [
        "### 1. 文字の扱い方について"
      ]
    },
    {
      "cell_type": "markdown",
      "metadata": {
        "id": "lamRVo54qcom"
      },
      "source": [
        "#### 1.1 「スライス」を利用して「aiueo」と言う文字を反対から出力して下さい。"
      ]
    },
    {
      "cell_type": "code",
      "metadata": {
        "scrolled": true,
        "id": "a7lVfX2bqcon",
        "colab": {
          "base_uri": "https://localhost:8080/",
          "height": 35
        },
        "outputId": "56649c69-7b34-4041-d8bc-a1e1e15831cd"
      },
      "source": [
        "test = \"aiueo\"\n",
        "test[::-1]"
      ],
      "execution_count": 9,
      "outputs": [
        {
          "output_type": "execute_result",
          "data": {
            "text/plain": [
              "'oeuia'"
            ],
            "application/vnd.google.colaboratory.intrinsic+json": {
              "type": "string"
            }
          },
          "metadata": {},
          "execution_count": 9
        }
      ]
    },
    {
      "cell_type": "markdown",
      "metadata": {
        "id": "su7rCBX6qcon"
      },
      "source": [
        "#### 1.2 「スライス」を利用して「あかさたなはまやらわ」から奇数番目の文字を出力して下さい。"
      ]
    },
    {
      "cell_type": "code",
      "metadata": {
        "id": "-gHmUqC2qcon",
        "colab": {
          "base_uri": "https://localhost:8080/",
          "height": 35
        },
        "outputId": "57e56cce-a0b3-48cd-efb9-253719d2c999"
      },
      "source": [
        "test = \"あかさたなはまやらわ\"\n",
        "test[::2]"
      ],
      "execution_count": 12,
      "outputs": [
        {
          "output_type": "execute_result",
          "data": {
            "text/plain": [
              "'あさなまら'"
            ],
            "application/vnd.google.colaboratory.intrinsic+json": {
              "type": "string"
            }
          },
          "metadata": {},
          "execution_count": 12
        }
      ]
    },
    {
      "cell_type": "markdown",
      "metadata": {
        "id": "yJNXKKIkqcon"
      },
      "source": [
        "#### 1.3 「スライス」を利用して「あかさたなはまやらわ」の文字を逆順にして、奇数番目の文字を出力して下さい。"
      ]
    },
    {
      "cell_type": "code",
      "metadata": {
        "scrolled": true,
        "id": "JsJUiYaCqcon",
        "colab": {
          "base_uri": "https://localhost:8080/",
          "height": 35
        },
        "outputId": "029b29ac-c89e-4551-d033-722156629449"
      },
      "source": [
        "test = \"あかさたなはまやらわ\"\n",
        "test[::-1][::2]"
      ],
      "execution_count": 13,
      "outputs": [
        {
          "output_type": "execute_result",
          "data": {
            "text/plain": [
              "'わやはたか'"
            ],
            "application/vnd.google.colaboratory.intrinsic+json": {
              "type": "string"
            }
          },
          "metadata": {},
          "execution_count": 13
        }
      ]
    },
    {
      "cell_type": "markdown",
      "metadata": {
        "id": "dDP-aUQNqcoo"
      },
      "source": [
        "#### 1.4 引数a, bを受け取り「aの時はb」という文字列を返す関数を実装し、a=\"ご飯\", b=\"静かにする\"として、実行結果を確認して下さい。"
      ]
    },
    {
      "cell_type": "code",
      "metadata": {
        "id": "Ja_mwLr8qcoo",
        "colab": {
          "base_uri": "https://localhost:8080/",
          "height": 35
        },
        "outputId": "5afc1a8d-f7a1-4d79-b3dc-1b0f0b307365"
      },
      "source": [
        "def then(a,b):\n",
        "  return \"{}の時は{}\".format(a,b)\n",
        "then(\"ご飯\", \"静かにする\")\n"
      ],
      "execution_count": 15,
      "outputs": [
        {
          "output_type": "execute_result",
          "data": {
            "text/plain": [
              "'ご飯の時は静かにする'"
            ],
            "application/vnd.google.colaboratory.intrinsic+json": {
              "type": "string"
            }
          },
          "metadata": {},
          "execution_count": 15
        }
      ]
    },
    {
      "cell_type": "markdown",
      "metadata": {
        "id": "i1IlMx1eqcoo"
      },
      "source": [
        "#### 1.5 「abcde」、「123」の文字列を別々の変数に格納し、下記の様に要素を1つずつ順番に組み合わせ、足りない部分に「zzz」という文字を入れて下さい。※itertoolsモジュールを使用して下さい。"
      ]
    },
    {
      "cell_type": "code",
      "metadata": {
        "id": "9ILWuRYJqcoo",
        "outputId": "81f266e8-3afa-4af4-eb46-c3b4f7022956"
      },
      "source": [],
      "execution_count": null,
      "outputs": [
        {
          "output_type": "execute_result",
          "data": {
            "text/plain": [
              "[('a', '1'), ('b', '2'), ('c', '3'), ('d', 'zzz'), ('e', 'zzz')]"
            ]
          },
          "metadata": {
            "tags": []
          },
          "execution_count": 1
        }
      ]
    },
    {
      "cell_type": "markdown",
      "metadata": {
        "id": "Wv4YRMk9qcoo"
      },
      "source": [
        "#### 1.6 「葛飾区亀有公園前派出所」の文字列から下記のタプルリストを作成して下さい。※ヒント：n-gram"
      ]
    },
    {
      "cell_type": "code",
      "metadata": {
        "scrolled": true,
        "id": "UxXioYDQqcoo",
        "outputId": "86a53514-b641-4177-e0ce-d94fc9783e50"
      },
      "source": [],
      "execution_count": null,
      "outputs": [
        {
          "output_type": "execute_result",
          "data": {
            "text/plain": [
              "[('葛', '飾'),\n",
              " ('飾', '区'),\n",
              " ('区', '亀'),\n",
              " ('亀', '有'),\n",
              " ('有', '公'),\n",
              " ('公', '園'),\n",
              " ('園', '前'),\n",
              " ('前', '派'),\n",
              " ('派', '出'),\n",
              " ('出', '所')]"
            ]
          },
          "metadata": {
            "tags": []
          },
          "execution_count": 2
        }
      ]
    },
    {
      "cell_type": "markdown",
      "metadata": {
        "id": "no38zUR2qcop"
      },
      "source": [
        "#### 1.7 「葛飾区亀有公園前派出所」の文字列から下記タプルリストを作成して下さい。※ヒントn-gram"
      ]
    },
    {
      "cell_type": "code",
      "metadata": {
        "scrolled": true,
        "id": "oOGBDmFrqcop",
        "outputId": "ebed3a16-81c0-4cae-9caa-bb9f5dc3d174"
      },
      "source": [],
      "execution_count": null,
      "outputs": [
        {
          "output_type": "execute_result",
          "data": {
            "text/plain": [
              "[('葛', '飾', '区'),\n",
              " ('飾', '区', '亀'),\n",
              " ('区', '亀', '有'),\n",
              " ('亀', '有', '公'),\n",
              " ('有', '公', '園'),\n",
              " ('公', '園', '前'),\n",
              " ('園', '前', '派'),\n",
              " ('前', '派', '出'),\n",
              " ('派', '出', '所')]"
            ]
          },
          "metadata": {
            "tags": []
          },
          "execution_count": 3
        }
      ]
    },
    {
      "cell_type": "markdown",
      "metadata": {
        "id": "LPV_DMotqcop"
      },
      "source": [
        "### 2. 正規表現について　※reモジュールを使用し、正規表現で「パターンマッチング」して課題に取り組んで下さい。スライスの使用は禁止です。"
      ]
    },
    {
      "cell_type": "markdown",
      "metadata": {
        "id": "2Pc0rI-xqcop"
      },
      "source": [
        "#### 2.1 reモジュールを読み込んで下さい。"
      ]
    },
    {
      "cell_type": "code",
      "metadata": {
        "id": "fBRjvxe3qcop"
      },
      "source": [
        "import re"
      ],
      "execution_count": 16,
      "outputs": []
    },
    {
      "cell_type": "markdown",
      "metadata": {
        "id": "RkojZoQbqcop"
      },
      "source": [
        "#### 2.2 電話番号「012-3456-7890」から市外局番である「012」を抜き出して下さい。"
      ]
    },
    {
      "cell_type": "code",
      "metadata": {
        "id": "-ly2AYhIqcoq",
        "colab": {
          "base_uri": "https://localhost:8080/"
        },
        "outputId": "a45e5553-79a2-4385-af3f-34dc95462845"
      },
      "source": [
        "tel_number = \"012-3456-7890\"\n",
        "match = re.search(r\"\\d+\", tel_number)\n",
        "print(match.group())"
      ],
      "execution_count": 17,
      "outputs": [
        {
          "output_type": "stream",
          "name": "stdout",
          "text": [
            "012\n"
          ]
        }
      ]
    },
    {
      "cell_type": "markdown",
      "metadata": {
        "id": "LILT6ziQqcoq"
      },
      "source": [
        "#### 2.3 文字列「axyzb」から「xyz」を抜き出して下さい。"
      ]
    },
    {
      "cell_type": "code",
      "metadata": {
        "id": "NGJhnKYTqcoq",
        "colab": {
          "base_uri": "https://localhost:8080/"
        },
        "outputId": "efa9cacd-eb79-4954-a185-d7ce79cddb1d"
      },
      "source": [
        "string = \"axyzb\"\n",
        "print(re.findall(\"a(.*)b\", string))"
      ],
      "execution_count": 18,
      "outputs": [
        {
          "output_type": "stream",
          "name": "stdout",
          "text": [
            "['xyz']\n"
          ]
        }
      ]
    },
    {
      "cell_type": "markdown",
      "metadata": {
        "id": "ear19xTOqcoq"
      },
      "source": [
        "####  2.4 「'Dear aaa@google.com Mr.Sato'」から「メールアドレスのみ」を出力して下さい。"
      ]
    },
    {
      "cell_type": "code",
      "metadata": {
        "id": "XWsNFcPcqcor",
        "colab": {
          "base_uri": "https://localhost:8080/"
        },
        "outputId": "98c88582-6aef-4e8e-d1ae-dbbd4ba7a376"
      },
      "source": [
        "address = 'Dear aaa@google.com Mr.Sato'\n",
        "match = re.search(r\"[\\w.-]+@[\\w.-]+\", address)\n",
        "print(match.group())"
      ],
      "execution_count": 21,
      "outputs": [
        {
          "output_type": "stream",
          "name": "stdout",
          "text": [
            "aaa@google.com\n"
          ]
        }
      ]
    },
    {
      "cell_type": "markdown",
      "metadata": {
        "id": "W_pYagiVqcor"
      },
      "source": [
        "#### 2.5「'Dear aaa@google.com Mr.Sato'」から「メールアドレス」、「ユーザー名」、「ドメイン名」をそれぞれ出力して下さい。"
      ]
    },
    {
      "cell_type": "code",
      "metadata": {
        "id": "4S8sO2NBqcor",
        "colab": {
          "base_uri": "https://localhost:8080/"
        },
        "outputId": "422d89d7-55b6-4e09-f653-b03ddb52749d"
      },
      "source": [
        "l = 'Dear aaa@google.com Mr.Sato'\n",
        "match = re.search(r'([\\w.-]+)@([\\w.-]+)', l)\n",
        "if match:\n",
        "    print(match.group())   \n",
        "    print(match.group(1))  \n",
        "    print(match.group(2))  "
      ],
      "execution_count": 32,
      "outputs": [
        {
          "output_type": "stream",
          "name": "stdout",
          "text": [
            "aaa@google.com\n",
            "aaa\n",
            "google.com\n"
          ]
        }
      ]
    },
    {
      "cell_type": "markdown",
      "metadata": {
        "id": "wLCwbANmqcos"
      },
      "source": [
        "#### 2.6 「アルファベットのみ」を認識する関数を作成し、その関数に「123456」、「123a」、「abc」、「ABC」を入力し、下記結果を出力して下さい。"
      ]
    },
    {
      "cell_type": "code",
      "metadata": {
        "id": "bgpJArVuqcot",
        "colab": {
          "base_uri": "https://localhost:8080/"
        },
        "outputId": "75fa2721-c881-4ed0-d255-31473c51a5c4"
      },
      "source": [
        "def is_alphabet(l):\n",
        "  charRe = re.compile(r\"[^a-zA-Z.]\")\n",
        "  match = charRe.search(l)\n",
        "  return not bool(match)\n",
        "\n",
        "print(\"123456:\", is_alphabet(\"123456\"))\n",
        "print(\"123a:\", is_alphabet(\"123a\"))\n",
        "print(\"abc:\", is_alphabet(\"abc\"))\n",
        "print(\"ABC:\", is_alphabet(\"ABC\"))"
      ],
      "execution_count": 33,
      "outputs": [
        {
          "output_type": "stream",
          "name": "stdout",
          "text": [
            "123456: False\n",
            "123a: False\n",
            "abc: True\n",
            "ABC: True\n"
          ]
        }
      ]
    },
    {
      "cell_type": "markdown",
      "metadata": {
        "id": "MaeHqEkLqcot"
      },
      "source": [
        "#### 2.7 アルファベットの中でも「大文字」、「小文字」を認識する関数を作成して下さい。その関数に「aaabbbc」、「aAabbcc」、「AAABBBC」を入力し、下記結果を出力して下さい。"
      ]
    },
    {
      "cell_type": "code",
      "metadata": {
        "id": "c94Nx-wDqcot",
        "colab": {
          "base_uri": "https://localhost:8080/"
        },
        "outputId": "15a8a83c-c5cb-4f09-90ee-07c5dd2acbe6"
      },
      "source": [
        "def text_matching(text):\n",
        "  patterns = \"^[a-z]+[a-z]+$\"\n",
        "  if re.search(patterns, text):\n",
        "    return True\n",
        "  else:\n",
        "    return False\n",
        "\n",
        "print(\"aaabbbc:\", text_matching(\"aaabbbc\"))\n",
        "print(\"aAabbcc:\", text_matching(\"aAabbcc\"))\n",
        "print(\"AAABBBC:\", text_matching(\"AAABBBC\"))\n"
      ],
      "execution_count": 34,
      "outputs": [
        {
          "output_type": "stream",
          "name": "stdout",
          "text": [
            "aaabbbc: True\n",
            "aAabbcc: False\n",
            "AAABBBC: False\n"
          ]
        }
      ]
    },
    {
      "cell_type": "markdown",
      "metadata": {
        "id": "cskUyL8Qqcot"
      },
      "source": [
        "#### 2.8 ipアドレス「211.08.085.341」から「0」を抜いて下さい。"
      ]
    },
    {
      "cell_type": "code",
      "metadata": {
        "scrolled": true,
        "id": "YZiCMiuCqcot",
        "colab": {
          "base_uri": "https://localhost:8080/"
        },
        "outputId": "471cc686-6c19-48ff-b516-ef3c3974c5d0"
      },
      "source": [
        "ip = \"211.08.085.341\"\n",
        "l = re.sub(\"\\.[0]*\", \".\", ip)\n",
        "print(l)"
      ],
      "execution_count": 35,
      "outputs": [
        {
          "output_type": "stream",
          "name": "stdout",
          "text": [
            "211.8.85.341\n"
          ]
        }
      ]
    },
    {
      "cell_type": "markdown",
      "metadata": {
        "id": "IKuoSeNFqcot"
      },
      "source": [
        "#### 2.9 URL「\"https://www.aaabbb/2020/01/01/%3%7%d%7/ \"」から日付を下記形式で抽出して下さい。"
      ]
    },
    {
      "cell_type": "code",
      "metadata": {
        "id": "_1S7xRHJqcou"
      },
      "source": [],
      "execution_count": null,
      "outputs": []
    },
    {
      "cell_type": "markdown",
      "metadata": {
        "id": "bqjNf3ypqcou"
      },
      "source": [
        "#### 2.10 「Tから始まる文字列かどうか」を判定する関数を作成し、「\"Takashi\"」,「\"Noriko\"」の文字列を入力した結果を出力して下さい。"
      ]
    },
    {
      "cell_type": "code",
      "metadata": {
        "id": "4TtG_xx0qcou"
      },
      "source": [],
      "execution_count": null,
      "outputs": []
    },
    {
      "cell_type": "markdown",
      "metadata": {
        "id": "T07jG5Qgqcou"
      },
      "source": [
        "#### 2.11 空白を削除する関数を作成し、「\"aaa  bbb       ccc\"」の結果を出力して下さい。"
      ]
    },
    {
      "cell_type": "code",
      "metadata": {
        "scrolled": true,
        "id": "Pf1A8utrqcou"
      },
      "source": [],
      "execution_count": null,
      "outputs": []
    },
    {
      "cell_type": "markdown",
      "metadata": {
        "id": "YZMDRbtvqcou"
      },
      "source": [
        "### 3. Mecabの使い方について"
      ]
    },
    {
      "cell_type": "markdown",
      "metadata": {
        "id": "-Zus1b_Kqcou"
      },
      "source": [
        "#### 3.1 「すももももももももうのうち」を分かち書きして下さい。"
      ]
    },
    {
      "cell_type": "code",
      "metadata": {
        "scrolled": true,
        "id": "osRyzThZqcou",
        "colab": {
          "base_uri": "https://localhost:8080/"
        },
        "outputId": "7618a92f-8928-4e29-9dbb-e873fc9d6331"
      },
      "source": [
        "mecab = MeCab.Tagger(\"-Owakati\")\n",
        "text = mecab.parse(\"すもももももももものうち\")\n",
        "print(text)"
      ],
      "execution_count": 37,
      "outputs": [
        {
          "output_type": "stream",
          "name": "stdout",
          "text": [
            "すもも も もも も もも の うち \n",
            "\n"
          ]
        }
      ]
    },
    {
      "cell_type": "markdown",
      "metadata": {
        "id": "SYqNFmq_qcou"
      },
      "source": [
        "#### 3.2「あの花はとても美しい」を形態素解析して下さい。"
      ]
    },
    {
      "cell_type": "code",
      "metadata": {
        "scrolled": true,
        "id": "GY-sMBUtqcov",
        "colab": {
          "base_uri": "https://localhost:8080/"
        },
        "outputId": "559157c8-2d49-4603-9cb7-e13c231fbb09"
      },
      "source": [
        "mecab = MeCab.Tagger(\"-chasen\")\n",
        "text = \"あの花はとても美しい\"\n",
        "print(mecab.parse(text))"
      ],
      "execution_count": 41,
      "outputs": [
        {
          "output_type": "stream",
          "name": "stdout",
          "text": [
            "あの\tアノ\tアノ\tあの\t感動詞-フィラー\t\t\t0\n",
            "花\tハナ\tハナ\t花\t名詞-普通名詞-一般\t\t\t2\n",
            "は\tワ\tハ\tは\t助詞-係助詞\t\t\t\n",
            "とても\tトテモ\tトテモ\t迚も\t副詞\t\t\t0\n",
            "美しい\tウツクシー\tウツクシイ\t美しい\t形容詞-一般\t形容詞\t終止形-一般\t4\n",
            "EOS\n",
            "\n"
          ]
        }
      ]
    },
    {
      "cell_type": "markdown",
      "metadata": {
        "id": "zxiS0Tbtqcov"
      },
      "source": [
        "#### 3.3 「すもももももももものうち」という文章を形態素解析して、結果を確認して下さい。"
      ]
    },
    {
      "cell_type": "code",
      "metadata": {
        "id": "b8rOu2fQqcov",
        "colab": {
          "base_uri": "https://localhost:8080/"
        },
        "outputId": "e648d7e7-8309-40d2-b0c0-5c85ae8fc788"
      },
      "source": [
        "text = \"すもももももももものうち\"\n",
        "mecab = MeCab.Tagger(\"-chasen\")\n",
        "print(mecab.parse(text))"
      ],
      "execution_count": 42,
      "outputs": [
        {
          "output_type": "stream",
          "name": "stdout",
          "text": [
            "すもも\tスモモ\tスモモ\t李\t名詞-普通名詞-一般\t\t\t0\n",
            "も\tモ\tモ\tも\t助詞-係助詞\t\t\t\n",
            "もも\tモモ\tモモ\t桃\t名詞-普通名詞-一般\t\t\t0\n",
            "も\tモ\tモ\tも\t助詞-係助詞\t\t\t\n",
            "もも\tモモ\tモモ\t桃\t名詞-普通名詞-一般\t\t\t0\n",
            "の\tノ\tノ\tの\t助詞-格助詞\t\t\t\n",
            "うち\tウチ\tウチ\t内\t名詞-普通名詞-副詞可能\t\t\t0\n",
            "EOS\n",
            "\n"
          ]
        }
      ]
    },
    {
      "cell_type": "markdown",
      "metadata": {
        "id": "aZLTtX02qcov"
      },
      "source": [
        "#### 3.4 「すもももももももものうち」という文章が取りうるすべての形態素を表示して下さい。"
      ]
    },
    {
      "cell_type": "code",
      "metadata": {
        "id": "KK6Tf_nPqcov",
        "colab": {
          "base_uri": "https://localhost:8080/"
        },
        "outputId": "658d65a6-ac53-4db2-9018-6a8d1ca8bc69"
      },
      "source": [
        "mecab = MeCab.Tagger(\"-a --all-morphs\")\n",
        "text = mecab.parse(\"すもももももももものうち\")\n",
        "print(text)"
      ],
      "execution_count": 43,
      "outputs": [
        {
          "output_type": "stream",
          "name": "stdout",
          "text": [
            "すもも\tスモモ\tスモモ\t李\t名詞-普通名詞-一般\t\t\t0\n",
            "すも\tスモ\tスム\t澄む\t動詞-一般\t五段-マ行\t意志推量形\t1\n",
            "すも\tスモ\tスム\t済む\t動詞-一般\t五段-マ行\t意志推量形\t1\n",
            "すも\tスモ\tスム\t住む\t動詞-一般\t五段-マ行\t意志推量形\t1\n",
            "す\tス\tデス\tです\t助動詞\t助動詞-デス\t終止形-一般\t\n",
            "す\tス\tセル\tせる\t助動詞\t文語下二段-サ行\t終止形-一般\t\n",
            "す\tス\tスル\t為る\t動詞-非自立可能\tサ行変格\t連体形-省略\t0\n",
            "す\tス\tスル\t為る\t動詞-非自立可能\t文語サ行変格\t終止形-一般\t1\n",
            "す\tス\tス\t酢\t名詞-普通名詞-一般\t\t\t1\n",
            "す\tス\tス\t素\t接頭辞\t\t\t\n",
            "す\tス\tス\t巣\t名詞-普通名詞-一般\t\t\t0,1\n",
            "もも\tモモ\tモモ\t腿\t名詞-普通名詞-一般\t\t\t1\n",
            "もも\tモモ\tモモ\t桃\t名詞-普通名詞-一般\t\t\t0\n",
            "もも\tモモ\tモム\t揉む\t動詞-一般\t五段-マ行\t意志推量形\t0\n",
            "も\tモ\tモウ\tもう\t副詞\t\t\t1\n",
            "も\tモ\tモ\tモ\t記号-一般\t\t\t1\n",
            "も\tモ\tモ\tも\t助詞-係助詞\t\t\t\n",
            "もも\tモモ\tモモ\t腿\t名詞-普通名詞-一般\t\t\t1\n",
            "もも\tモモ\tモモ\t桃\t名詞-普通名詞-一般\t\t\t0\n",
            "もも\tモモ\tモム\t揉む\t動詞-一般\t五段-マ行\t意志推量形\t0\n",
            "も\tモ\tモウ\tもう\t副詞\t\t\t1\n",
            "も\tモ\tモ\tモ\t記号-一般\t\t\t1\n",
            "も\tモ\tモ\tも\t助詞-係助詞\t\t\t\n",
            "もも\tモモ\tモモ\t腿\t名詞-普通名詞-一般\t\t\t1\n",
            "もも\tモモ\tモモ\t桃\t名詞-普通名詞-一般\t\t\t0\n",
            "もも\tモモ\tモム\t揉む\t動詞-一般\t五段-マ行\t意志推量形\t0\n",
            "も\tモ\tモウ\tもう\t副詞\t\t\t1\n",
            "も\tモ\tモ\tモ\t記号-一般\t\t\t1\n",
            "も\tモ\tモ\tも\t助詞-係助詞\t\t\t\n",
            "もも\tモモ\tモモ\t腿\t名詞-普通名詞-一般\t\t\t1\n",
            "もも\tモモ\tモモ\t桃\t名詞-普通名詞-一般\t\t\t0\n",
            "もも\tモモ\tモム\t揉む\t動詞-一般\t五段-マ行\t意志推量形\t0\n",
            "も\tモ\tモウ\tもう\t副詞\t\t\t1\n",
            "も\tモ\tモ\tモ\t記号-一般\t\t\t1\n",
            "も\tモ\tモ\tも\t助詞-係助詞\t\t\t\n",
            "もも\tモモ\tモモ\t腿\t名詞-普通名詞-一般\t\t\t1\n",
            "もも\tモモ\tモモ\t桃\t名詞-普通名詞-一般\t\t\t0\n",
            "もも\tモモ\tモム\t揉む\t動詞-一般\t五段-マ行\t意志推量形\t0\n",
            "も\tモ\tモウ\tもう\t副詞\t\t\t1\n",
            "も\tモ\tモ\tモ\t記号-一般\t\t\t1\n",
            "も\tモ\tモ\tも\t助詞-係助詞\t\t\t\n",
            "もも\tモモ\tモモ\t腿\t名詞-普通名詞-一般\t\t\t1\n",
            "もも\tモモ\tモモ\t桃\t名詞-普通名詞-一般\t\t\t0\n",
            "もも\tモモ\tモム\t揉む\t動詞-一般\t五段-マ行\t意志推量形\t0\n",
            "も\tモ\tモウ\tもう\t副詞\t\t\t1\n",
            "も\tモ\tモ\tモ\t記号-一般\t\t\t1\n",
            "も\tモ\tモ\tも\t助詞-係助詞\t\t\t\n",
            "もも\tモモ\tモモ\t腿\t名詞-普通名詞-一般\t\t\t1\n",
            "もも\tモモ\tモモ\t桃\t名詞-普通名詞-一般\t\t\t0\n",
            "もも\tモモ\tモム\t揉む\t動詞-一般\t五段-マ行\t意志推量形\t0\n",
            "も\tモ\tモウ\tもう\t副詞\t\t\t1\n",
            "も\tモ\tモ\tモ\t記号-一般\t\t\t1\n",
            "も\tモ\tモ\tも\t助詞-係助詞\t\t\t\n",
            "ものう\tモノウ\tモノウイ\t物憂い\t形容詞-一般\t形容詞\t語幹-一般\t3,0\n",
            "もの\tモノ\tモノ\t者\t名詞-普通名詞-一般\t\t\t2\n",
            "もの\tモノ\tモノ\t物\t接頭辞\t\t\t\n",
            "もの\tモノ\tモノ\t物\t名詞-普通名詞-サ変可能\t\t\t2,0\n",
            "もの\tモノ\tモノ\tもの\t助詞-終助詞\t\t\t\n",
            "も\tモ\tモウ\tもう\t副詞\t\t\t1\n",
            "も\tモ\tモ\tモ\t記号-一般\t\t\t1\n",
            "も\tモ\tモ\tも\t助詞-係助詞\t\t\t\n",
            "のう\tノー\tノウ\t能\t名詞-普通名詞-一般\t\t\t1,0\n",
            "のう\tノー\tノウ\t嚢\t名詞-普通名詞-一般\t\t\t0\n",
            "のう\tノー\tノウ\tのう\t助詞-終助詞\t\t\t\n",
            "のう\tノー\tノウ\tのう\t感動詞-一般\t\t\t1\n",
            "のう\tノー\tナウ\t綯う\t動詞-一般\t五段-ワア行\t連用形-ウ音便\t1\n",
            "のう\tノー\tナイ\t無い\t形容詞-非自立可能\t形容詞\t連用形-ウ音便\t1\n",
            "の\tノ\tノ\t野\t名詞-普通名詞-一般\t\t\t1\n",
            "の\tノ\tノ\tノ\t記号-一般\t\t\t1\n",
            "の\tノ\tノ\tの\t助詞-終助詞\t\t\t\n",
            "の\tノ\tノ\tの\t助詞-準体助詞\t\t\t\n",
            "の\tノ\tノ\tの\t助詞-格助詞\t\t\t\n",
            "うち\tウチ\tウツ\t打つ\t動詞-一般\t五段-タ行\t連用形-一般\t1\n",
            "うち\tウチ\tウチ\t家\t名詞-普通名詞-一般\t\t\t0\n",
            "うち\tウチ\tウチ\t内\t名詞-普通名詞-副詞可能\t\t\t0\n",
            "うち\tウチ\tウチ\tうち\t代名詞\t\t\t0\n",
            "う\tウ\tエル\t得る\t動詞-非自立可能\t文語下二段-ア行\t終止形-一般\t1\n",
            "う\tウ\tウー\tうー\t感動詞-フィラー\t\t\t0\n",
            "う\tウ\tウウ\tうう\t感動詞-一般\t\t\t1\n",
            "う\tウ\tウ\tウ\t記号-一般\t\t\t1\n",
            "ち\tチ\tチッ\tちっ\t副詞\t\t\t1\n",
            "ち\tチ\tチ\t血\t名詞-普通名詞-一般\t\t\t0\n",
            "ち\tチ\tチ\t地\t名詞-普通名詞-一般\t\t\t1\n",
            "ち\tチ\tチ\tチ\t記号-一般\t\t\t1\n",
            "ち\tチ\tウチ\t家\t名詞-普通名詞-一般\t\t\t0\n",
            "EOS\n",
            "\n"
          ]
        }
      ]
    },
    {
      "cell_type": "markdown",
      "metadata": {
        "id": "NvRn_Hnbqcov"
      },
      "source": [
        "#### 3.5下記文章を形態素解析して、「名詞」をリスト化して下さい。「ウィキペディアは、信頼されるフリーなオンライン百科事典、それも質・量ともに史上最大の百科事典を、共同作業で創り上げることを目的とするプロジェクト、およびその成果である百科事典本体です。」"
      ]
    },
    {
      "cell_type": "code",
      "metadata": {
        "id": "WSDbuDHLqcov",
        "colab": {
          "base_uri": "https://localhost:8080/",
          "height": 240
        },
        "outputId": "05e633dc-213b-4ac8-ec0e-5d1933a02bb5"
      },
      "source": [
        "sentence = \"\"\"ウィキペディアは、信頼されるフリーなオンライン百科事典、それも質・量ともに史上最大の百科事典を、\n",
        "共同作業で創り上げることを目的とするプロジェクト、およびその成果である百科事典本体です。\"\"\"\n",
        "\n",
        "t = MeCab.Tagger(\"-chasen\")\n",
        "t.parse('')\n",
        "m = t.parseToNode(sentence)\n",
        "keywords = []\n",
        "while m:\n",
        "  if m.feature.split(\",\")[0] == '名詞':\n",
        "    keywords.append(m.surface)\n",
        "    m = m.next\n",
        "print(keywords)"
      ],
      "execution_count": 49,
      "outputs": [
        {
          "output_type": "error",
          "ename": "KeyboardInterrupt",
          "evalue": "ignored",
          "traceback": [
            "\u001b[0;31m---------------------------------------------------------------------------\u001b[0m",
            "\u001b[0;31mKeyboardInterrupt\u001b[0m                         Traceback (most recent call last)",
            "\u001b[0;32m<ipython-input-49-1335901eaa38>\u001b[0m in \u001b[0;36m<module>\u001b[0;34m\u001b[0m\n\u001b[1;32m      7\u001b[0m \u001b[0mkeywords\u001b[0m \u001b[0;34m=\u001b[0m \u001b[0;34m[\u001b[0m\u001b[0;34m]\u001b[0m\u001b[0;34m\u001b[0m\u001b[0;34m\u001b[0m\u001b[0m\n\u001b[1;32m      8\u001b[0m \u001b[0;32mwhile\u001b[0m \u001b[0mm\u001b[0m\u001b[0;34m:\u001b[0m\u001b[0;34m\u001b[0m\u001b[0;34m\u001b[0m\u001b[0m\n\u001b[0;32m----> 9\u001b[0;31m   \u001b[0;32mif\u001b[0m \u001b[0mm\u001b[0m\u001b[0;34m.\u001b[0m\u001b[0mfeature\u001b[0m\u001b[0;34m.\u001b[0m\u001b[0msplit\u001b[0m\u001b[0;34m(\u001b[0m\u001b[0;34m\",\"\u001b[0m\u001b[0;34m)\u001b[0m\u001b[0;34m[\u001b[0m\u001b[0;36m0\u001b[0m\u001b[0;34m]\u001b[0m \u001b[0;34m==\u001b[0m \u001b[0;34m'名詞'\u001b[0m\u001b[0;34m:\u001b[0m\u001b[0;34m\u001b[0m\u001b[0;34m\u001b[0m\u001b[0m\n\u001b[0m\u001b[1;32m     10\u001b[0m     \u001b[0mkeywords\u001b[0m\u001b[0;34m.\u001b[0m\u001b[0mappend\u001b[0m\u001b[0;34m(\u001b[0m\u001b[0mm\u001b[0m\u001b[0;34m.\u001b[0m\u001b[0msurface\u001b[0m\u001b[0;34m)\u001b[0m\u001b[0;34m\u001b[0m\u001b[0;34m\u001b[0m\u001b[0m\n\u001b[1;32m     11\u001b[0m     \u001b[0mm\u001b[0m \u001b[0;34m=\u001b[0m \u001b[0mm\u001b[0m\u001b[0;34m.\u001b[0m\u001b[0mnext\u001b[0m\u001b[0;34m\u001b[0m\u001b[0;34m\u001b[0m\u001b[0m\n",
            "\u001b[0;31mKeyboardInterrupt\u001b[0m: "
          ]
        }
      ]
    },
    {
      "cell_type": "markdown",
      "metadata": {
        "id": "nCW3NaErqcow"
      },
      "source": [
        "#### 3.6「3.5」の文章の「名詞」、「動詞」、「助動詞」の数をカウントして下さい。"
      ]
    },
    {
      "cell_type": "code",
      "metadata": {
        "id": "4lZvnl0Hqcow",
        "colab": {
          "base_uri": "https://localhost:8080/"
        },
        "outputId": "856651a5-99c9-454a-aac0-37e5ce40ab68"
      },
      "source": [
        "sentence = \"\"\"ウィキペディアは、信頼されるフリーなオンライン百科事典、それも質・量ともに史上最大の百科事典を、\n",
        "共同作業で創り上げることを目的とするプロジェクト、およびその成果である百科事典本体です。\"\"\"\n",
        "\n",
        "t = MeCab.Tagger(\"-chasen\")\n",
        "t.parse('')\n",
        "m = t.parseToNode(sentence)\n",
        "keywords_info = []\n",
        "while m:\n",
        "  hinsi = m.feature.split(',')[0]\n",
        "  if hinsi in [\"名詞\", \"動詞\", \"助動詞\"]:\n",
        "    keywords_info.append(hinsi)\n",
        "  m = m.next\n",
        "pd.Series(keywords_info).value_counts()"
      ],
      "execution_count": 48,
      "outputs": [
        {
          "output_type": "execute_result",
          "data": {
            "text/plain": [
              "名詞     23\n",
              "動詞      4\n",
              "助動詞     4\n",
              "dtype: int64"
            ]
          },
          "metadata": {},
          "execution_count": 48
        }
      ]
    },
    {
      "cell_type": "markdown",
      "metadata": {
        "id": "QPbXJOSFqcow"
      },
      "source": [
        "### 4. Word to vecについて"
      ]
    },
    {
      "cell_type": "markdown",
      "metadata": {
        "id": "Zt82Nt53qcow"
      },
      "source": [
        "#### 4.0 事前準備：下記コードを読み込んで下さい。"
      ]
    },
    {
      "cell_type": "code",
      "metadata": {
        "id": "TbY1PpeSqcow",
        "outputId": "c2fddc02-6443-4526-a2cb-19b47066b7bf",
        "colab": {
          "base_uri": "https://localhost:8080/",
          "height": 278
        }
      },
      "source": [
        "import urllib.request\n",
        "import zipfile\n",
        "\n",
        "URL = 'https://www.aozora.gr.jp/cards/000148/files/789_ruby_5639.zip'\n",
        "zip = '789_ruby_5639.zip'\n",
        "\n",
        "urllib.request.urlretrieve(URL, zip)\n",
        "\n",
        "with zipfile.ZipFile(zip, 'r') as myzip:\n",
        "    myzip.extractall()\n",
        "    for myfile in myzip.infolist():\n",
        "        filename = myfile.filename\n",
        "        with open(filename, encoding='sjis') as file:\n",
        "            text = file.read()\n",
        "\n",
        "from janome.tokenizer import Tokenizer\n",
        "# 1万文字まで「text」変数に格納する\n",
        "text = text[:10000]\n",
        "text"
      ],
      "execution_count": 64,
      "outputs": [
        {
          "output_type": "execute_result",
          "data": {
            "text/plain": [
              "'吾輩は猫である\\n夏目漱石\\n\\n-------------------------------------------------------\\n【テキスト中に現れる記号について】\\n\\n《》：ルビ\\n（例）吾輩《わがはい》\\n\\n｜：ルビの付く文字列の始まりを特定する記号\\n（例）一番｜獰悪《どうあく》\\n\\n［＃］：入力者注\\u3000主に外字の説明や、傍点の位置の指定\\n\\u3000\\u3000\\u3000（数字は、JIS X 0213の面区点番号またはUnicode、底本のページと行数）\\n（例）※［＃「言＋墟のつくり」、第4水準2-88-74］\\n\\n〔〕：アクセント分解された欧文をかこむ\\n（例）〔Quid aliud est mulier nisi amicitiae& inimica〕\\nアクセント分解についての詳細は下記URLを参照してください\\nhttp://www.aozora.gr.jp/accent_separation.html\\n-------------------------------------------------------\\n\\n［＃８字下げ］一［＃「一」は中見出し］\\n\\n\\u3000吾輩《わがはい》は猫である。名前はまだ無い。\\n\\u3000どこで生れたかとんと見当《けんとう》がつかぬ。何でも薄暗いじめじめした所でニャーニャー泣いていた事だけは記憶している。吾輩はここで始めて人間というものを見た。しかもあとで聞くとそれは書生という人間中で一番｜獰悪《どうあく》な種族であったそうだ。この書生というのは時々我々を捕《つかま》えて煮《に》て食うという話である。しかしその当時は何という考もなかったから別段恐しいとも思わなかった。ただ彼の掌《てのひら》に載せられてスーと持ち上げられた時何だかフワフワした感じがあったばかりである。掌の上で少し落ちついて書生の顔を見たのがいわゆる人間というものの見始《みはじめ》であろう。この時妙なものだと思った感じが今でも残っている。第一毛をもって装飾されべきはずの顔がつるつるしてまるで薬缶《やかん》だ。その後《ご》猫にもだいぶ逢《あ》ったがこんな片輪《かたわ》には一度も出会《でく》わした事がない。のみならず顔の真中があまりに突起している。そうしてその穴の中から時々ぷうぷうと煙《けむり》を吹く。どうも咽《む》せぽくて実に弱った。これが人間の飲む煙草《たばこ》というものである事はようやくこの頃知った。\\n\\u3000この書生の掌の裏《うち》でしばらくはよい心持に坐っておったが、しばらくすると非常な速力で運転し始めた。書生が動くのか自分だけが動くのか分らないが無暗《むやみ》に眼が廻る。胸が悪くなる。到底《とうてい》助からないと思っていると、どさりと音がして眼から火が出た。それまでは記憶しているがあとは何の事やらいくら考え出そうとしても分らない。\\n\\u3000ふと気が付いて見ると書生はいない。たくさんおった兄弟が一｜疋《ぴき》も見えぬ。肝心《かんじん》の母親さえ姿を隠してしまった。その上｜今《いま》までの所とは違って無暗《むやみ》に明るい。眼を明いていられぬくらいだ。はてな何でも容子《ようす》がおかしいと、のそのそ這《は》い出して見ると非常に痛い。吾輩は藁《わら》の上から急に笹原の中へ棄てられたのである。\\n\\u3000ようやくの思いで笹原を這い出すと向うに大きな池がある。吾輩は池の前に坐ってどうしたらよかろうと考えて見た。別にこれという分別《ふんべつ》も出ない。しばらくして泣いたら書生がまた迎に来てくれるかと考え付いた。ニャー、ニャーと試みにやって見たが誰も来ない。そのうち池の上をさらさらと風が渡って日が暮れかかる。腹が非常に減って来た。泣きたくても声が出ない。仕方がない、何でもよいから食物《くいもの》のある所まであるこうと決心をしてそろりそろりと池を左《ひだ》りに廻り始めた。どうも非常に苦しい。そこを我慢して無理やりに這《は》って行くとようやくの事で何となく人間臭い所へ出た。ここへ這入《はい》ったら、どうにかなると思って竹垣の崩《くず》れた穴から、とある邸内にもぐり込んだ。縁は不思議なもので、もしこの竹垣が破れていなかったなら、吾輩はついに路傍《ろぼう》に餓死《がし》したかも知れんのである。一樹の蔭とはよく云《い》ったものだ。この垣根の穴は今日《こんにち》に至るまで吾輩が隣家《となり》の三毛を訪問する時の通路になっている。さて邸《やしき》へは忍び込んだもののこれから先どうして善《い》いか分らない。そのうちに暗くなる、腹は減る、寒さは寒し、雨が降って来るという始末でもう一刻の猶予《ゆうよ》が出来なくなった。仕方がないからとにかく明るくて暖かそうな方へ方へとあるいて行く。今から考えるとその時はすでに家の内に這入っておったのだ。ここで吾輩は彼《か》の書生以外の人間を再び見るべき機会に遭遇《そうぐう》したのである。第一に逢ったのがおさんである。これは前の書生より一層乱暴な方で吾輩を見るや否やいきなり頸筋《くびすじ》をつかんで表へ抛《ほう》り出した。いやこれは駄目だと思ったから眼をねぶって運を天に任せていた。しかしひもじいのと寒いのにはどうしても我慢が出来ん。吾輩は再びおさんの隙《すき》を見て台所へ這《は》い上《あが》った。すると間もなくまた投げ出された。吾輩は投げ出されては這い上り、這い上っては投げ出され、何でも同じ事を四五遍繰り返したのを記憶している。その時におさんと云う者はつくづくいやになった。この間おさんの三馬《さんま》を偸《ぬす》んでこの返報をしてやってから、やっと胸の痞《つかえ》が下りた。吾輩が最後につまみ出されようとしたときに、この家《うち》の主人が騒々しい何だといいながら出て来た。下女は吾輩をぶら下げて主人の方へ向けてこの宿《やど》なしの小猫がいくら出しても出しても御台所《おだいどころ》へ上《あが》って来て困りますという。主人は鼻の下の黒い毛を撚《ひね》りながら吾輩の顔をしばらく眺《なが》めておったが、やがてそんなら内へ置いてやれといったまま奥へ這入《はい》ってしまった。主人はあまり口を聞かぬ人と見えた。下女は口惜《くや》しそうに吾輩を台所へ抛《ほう》り出した。かくして吾輩はついにこの家《うち》を自分の住家《すみか》と極《き》める事にしたのである。\\n\\u3000吾輩の主人は滅多《めった》に吾輩と顔を合せる事がない。職業は教師だそうだ。学校から帰ると終日書斎に這入ったぎりほとんど出て来る事がない。家のものは大変な勉強家だと思っている。当人も勉強家であるかのごとく見せている。しかし実際はうちのものがいうような勤勉家ではない。吾輩は時々忍び足に彼の書斎を覗《のぞ》いて見るが、彼はよく昼寝《ひるね》をしている事がある。時々読みかけてある本の上に涎《よだれ》をたらしている。彼は胃弱で皮膚の色が淡黄色《たんこうしょく》を帯びて弾力のない不活溌《ふかっぱつ》な徴候をあらわしている。その癖に大飯を食う。大飯を食った後《あと》でタカジヤスターゼを飲む。飲んだ後で書物をひろげる。二三ページ読むと眠くなる。涎を本の上へ垂らす。これが彼の毎夜繰り返す日課である。吾輩は猫ながら時々考える事がある。教師というものは実に楽《らく》なものだ。人間と生れたら教師となるに限る。こんなに寝ていて勤まるものなら猫にでも出来ぬ事はないと。それでも主人に云わせると教師ほどつらいものはないそうで彼は友達が来る度《たび》に何とかかんとか不平を鳴らしている。\\n\\u3000吾輩がこの家へ住み込んだ当時は、主人以外のものにははなはだ不人望であった。どこへ行っても跳《は》ね付けられて相手にしてくれ手がなかった。いかに珍重されなかったかは、今日《こんにち》に至るまで名前さえつけてくれないのでも分る。吾輩は仕方がないから、出来得る限り吾輩を入れてくれた主人の傍《そば》にいる事をつとめた。朝主人が新聞を読むときは必ず彼の膝《ひざ》の上に乗る。彼が昼寝をするときは必ずその背中《せなか》に乗る。これはあながち主人が好きという訳ではないが別に構い手がなかったからやむを得んのである。その後いろいろ経験の上、朝は飯櫃《めしびつ》の上、夜は炬燵《こたつ》の上、天気のよい昼は椽側《えんがわ》へ寝る事とした。しかし一番心持の好いのは夜《よ》に入《い》ってここのうちの小供の寝床へもぐり込んでいっしょにねる事である。この小供というのは五つと三つで夜になると二人が一つ床へ入《はい》って一間《ひとま》へ寝る。吾輩はいつでも彼等の中間に己《おの》れを容《い》るべき余地を見出《みいだ》してどうにか、こうにか割り込むのであるが、運悪く小供の一人が眼を醒《さ》ますが最後大変な事になる。小供は――ことに小さい方が質《たち》がわるい――猫が来た猫が来たといって夜中でも何でも大きな声で泣き出すのである。すると例の神経胃弱性の主人は必《かなら》ず眼をさまして次の部屋から飛び出してくる。現にせんだってなどは物指《ものさし》で尻ぺたをひどく叩《たた》かれた。\\n\\u3000吾輩は人間と同居して彼等を観察すればするほど、彼等は我儘《わがまま》なものだと断言せざるを得ないようになった。ことに吾輩が時々｜同衾《どうきん》する小供のごときに至っては言語同断《ごんごどうだん》である。自分の勝手な時は人を逆さにしたり、頭へ袋をかぶせたり、抛《ほう》り出したり、へっつい［＃「へっつい」に傍点］の中へ押し込んだりする。しかも吾輩の方で少しでも手出しをしようものなら家内《かない》総がかりで追い廻して迫害を加える。この間もちょっと畳で爪を磨《と》いだら細君が非常に怒《おこ》ってそれから容易に座敷へ入《い》れない。台所の板の間で他《ひと》が顫《ふる》えていても一向《いっこう》平気なものである。吾輩の尊敬する筋向《すじむこう》の白君などは逢《あ》う度毎《たびごと》に人間ほど不人情なものはないと言っておらるる。白君は先日玉のような子猫を四疋｜産《う》まれたのである。ところがそこの家《うち》の書生が三日目にそいつを裏の池へ持って行って四疋ながら棄てて来たそうだ。白君は涙を流してその一部始終を話した上、どうしても我等｜猫族《ねこぞく》が親子の愛を完《まった》くして美しい家族的生活をするには人間と戦ってこれを剿滅《そうめつ》せねばならぬといわれた。一々もっともの議論と思う。また隣りの三毛《みけ》君などは人間が所有権という事を解していないといって大《おおい》に憤慨している。元来我々同族間では目刺《めざし》の頭でも鰡《ぼら》の臍《へそ》でも一番先に見付けたものがこれを食う権利があるものとなっている。もし相手がこの規約を守らなければ腕力に訴えて善《よ》いくらいのものだ。しかるに彼等人間は毫《ごう》もこの観念がないと見えて我等が見付けた御馳走は必ず彼等のために掠奪《りゃくだつ》せらるるのである。彼等はその強力を頼んで正当に吾人が食い得べきものを奪《うば》ってすましている。白君は軍人の家におり三毛君は代言の主人を持っている。吾輩は教師の家に住んでいるだけ、こんな事に関すると両君よりもむしろ楽天である。ただその日その日がどうにかこうにか送られればよい。いくら人間だって、そういつまでも栄える事もあるまい。まあ気を永く猫の時節を待つがよかろう。\\n\\u3000我儘《わがまま》で思い出したからちょっと吾輩の家の主人がこの我儘で失敗した話をしよう。元来この主人は何といって人に勝《すぐ》れて出来る事もないが、何にでもよく手を出したがる。俳句をやってほととぎす［＃「ほととぎす」に傍点］へ投書をしたり、新体詩を明星［＃「明星」に傍点］へ出したり、間違いだらけの英文をかいたり、時によると弓に凝《こ》ったり、謡《うたい》を習ったり、またあるときはヴァイオリンなどをブーブー鳴らしたりするが、気の毒な事には、どれもこれも物になっておらん。その癖やり出すと胃弱の癖にいやに熱心だ。後架《こうか》の中で謡をうたって、近所で後架先生《こうかせんせい》と渾名《あだな》をつけられているにも関せず一向《いっこう》平気なもので、やはりこれは平《たいら》の宗盛《むねもり》にて候《そうろう》を繰返している。みんながそら宗盛だと吹き出すくらいである。この主人がどういう考になったものか吾輩の住み込んでから一月ばかり後《のち》のある月の月給日に、大きな包みを提《さ》げてあわただしく帰って来た。何を買って来たのかと思うと水彩絵具と毛筆とワットマンという紙で今日から謡や俳句をやめて絵をかく決心と見えた。果して翌日から当分の間というものは毎日毎日書斎で昼寝もしないで絵ばかりかいている。しかしそのかき上げたものを見ると何をかいたものやら誰にも鑑定がつかない。当人もあまり甘《うま》くないと思ったものか、ある日その友人で美学とかをやっている人が来た時に下《しも》のような話をしているのを聞いた。\\n「どうも甘《うま》くかけないものだね。人のを見ると何でもないようだが自《みずか》ら筆をとって見ると今更《いまさら》のようにむずかしく感ずる」これは主人の述懐《じゅっかい》である。なるほど詐《いつわ》りのない処だ。彼の友は金縁の眼鏡越《めがねごし》に主人の顔を見ながら、「そう初めから上手にはかけないさ、第一室内の想像ばかりで画《え》がかける訳のものではない。昔《むか》し以太利《イタリー》の大家アンドレア・デル・サルトが言った事がある。画をかくなら何でも自然その物を写せ。天に星辰《せいしん》あり。地に露華《ろか》あり。飛ぶに禽《とり》あり。走るに獣《けもの》あり。池に金魚あり。枯木《こぼく》に寒鴉《かんあ》あり。自然はこれ一幅の大活画《だいかつが》なりと。どうだ君も画らしい画をかこうと思うならちと写生をしたら」\\n「へえアンドレア・デル・サルトがそんな事をいった事があるかい。ちっとも知らなかった。なるほどこりゃもっともだ。実にその通りだ」と主人は無暗《むやみ》に感心している。金縁の裏には嘲《あざ》けるような笑《わらい》が見えた。\\n\\u3000その翌日吾輩は例のごとく椽側《えんがわ》に出て心持善く昼寝《ひるね》をしていたら、主人が例になく書斎から出て来て吾輩の後《うし》ろで何かしきりにやっている。ふと眼が覚《さ》めて何をしているかと一分《いちぶ》ばかり細目に眼をあけて見ると、彼は余念もなくアンドレア・デル・サルトを極《き》め込んでいる。吾輩はこの有様を見て覚えず失笑するのを禁じ得なかった。彼は彼の友に揶揄《やゆ》せられたる結果としてまず手初めに吾輩を写生しつつあるのである。吾輩はすでに十分《じゅうぶん》寝た。欠伸《あくび》がしたくてたまらない。しかしせっかく主人が熱心に筆を執《と》っているのを動いては気の毒だと思って、じっと辛棒《しんぼう》しておった。彼は今吾輩の輪廓をかき上げて顔のあたりを色彩《いろど》っている。吾輩は自白する。吾輩は猫として決して上乗の出来ではない。背といい毛並といい顔の造作といいあえて他の猫に勝《まさ》るとは決して思っておらん。しかしいくら不器量の吾輩でも、今吾輩の主人に描《えが》き出されつつあるような妙な姿とは、どうしても思われない。第一色が違う。吾輩は波斯産《ペルシャさん》の猫のごとく黄を含める淡灰色に漆《うるし》のごとき斑入《ふい》りの皮膚を有している。これだけは誰が見ても疑うべからざる事実と思う。しかるに今主人の彩色を見ると、黄でもなければ黒でもない、灰色でもなければ褐色《とびいろ》でもない、さればとてこれらを交ぜた色でもない。ただ一種の色であるというよりほかに評し方のない色である。その上不思議な事は眼がない。もっともこれは寝ているところを写生したのだから無理もないが眼らしい所さえ見えないから盲猫《めくら》だか寝ている猫だか判然しないのである。吾輩は心中ひそかにいくらアンドレア・デル・サルトでもこれではしようがないと思った。しかしその熱心には感服せざるを得ない。なるべくなら動かずにおってやりたいと思ったが、さっきから小便が催うしている。身内《みうち》の筋肉はむずむずする。最早《もはや》一分も猶予《ゆうよ》が出来ぬ仕儀《しぎ》となったから、やむをえず失敬して両足を前へ存分のして、首を低く押し出してあーあと大《だい》なる欠伸をした。さてこうなって見ると、もうおとなしくしていても仕方がない。どうせ主人の予定は打《ぶ》ち壊《こ》わしたのだから、ついでに裏へ行って用を足《た》そうと思ってのそのそ這い出した。すると主人は失望と怒りを掻《か》き交ぜたような声をして、座敷の中から「この馬鹿野郎」と怒鳴《どな》った。この主人は人を罵《ののし》るときは必ず馬鹿野郎というのが癖である。ほかに悪口の言いようを知らないのだから仕方がないが、今まで辛棒した人の気も知らないで、無暗《むやみ》に馬鹿野郎｜呼《よば》わりは失敬だと思う。それも平生吾輩が彼の背中《せなか》へ乗る時に少しは好い顔でもするならこの漫罵《まんば》も甘んじて受けるが、こっちの便利になる事は何一つ快くしてくれた事もないのに、小便に立ったのを馬鹿野郎とは酷《ひど》い。元来人間というものは自己の力量に慢じてみんな増長している。少し人間より強いものが出て来て窘《いじ》めてやらなくてはこの先どこまで増長するか分らない。\\n\\u3000我儘《わがまま》もこのくらいなら我慢するが吾輩は人間の不徳についてこれよりも数倍悲しむべき報道を耳にした事がある。\\n\\u3000吾輩の家の裏に十坪ばかりの茶園《ちゃえん》がある。広くはないが瀟洒《さっぱり》とした心持ち好く日の当《あた》る所だ。うちの小供があまり騒いで楽々昼寝の出来ない時や、あまり退屈で腹加減のよくない折などは、吾輩はいつでもここへ出て浩然《こうぜん》の気を養うのが例である。ある小春の穏かな日の二時頃であったが、吾輩は昼飯後《ちゅうはんご》快よく一睡した後《のち》、運動かたがたこの茶園へと歩《ほ》を運ばした。茶の木の根を一本一本嗅ぎながら、西側の杉垣のそばまでくると、枯菊を押し倒してその上に大きな猫が前後不覚に寝ている。彼は吾輩の近づくのも一向《いっこう》心付かざるごとく、また心付くも無頓着なるごとく、大きな鼾《いびき》をして長々と体を横《よこた》えて眠っている。他《ひと》の庭内に忍び入りたるものがかくまで平気に睡《ねむ》られるものかと、吾輩は窃《ひそ》かにその大胆なる度胸に驚かざるを得なかった。彼は純粋の黒猫である。わずかに午《ご》を過ぎたる太陽は、透明なる光線を彼の皮膚の上に抛《な》げかけて、きらきらする柔毛《にこげ》の間より眼に見えぬ炎でも燃《も》え出《い》ずるように思われた。彼は猫中の大王とも云うべきほどの偉大なる体格を有している。吾輩の倍はたしかにある。吾輩は嘆賞の念と、好奇の心に前後を忘れて彼の前に佇立《ちょりつ》して余念もなく眺《なが》めていると、静かなる小春の風が、杉垣の上から出たる梧桐《ごとう》の枝を軽《かろ》く誘ってばらばらと二三枚の葉が枯菊の茂みに落ちた。大王はかっとその真丸《まんまる》の眼を開いた。今でも記憶している。その眼は人間の珍重する琥珀《こはく》というものよりも遥《はる》かに美しく輝いていた。彼は身動きもしない。双眸《そうぼう》の奥から射るごとき光を吾輩の矮小《わいしょう》なる額《ひたい》の上にあつめて、御めえ［＃「御めえ」に傍点］は一体何だと云った。大王にしては少々言葉が卑《いや》しいと思ったが何しろその声の底に犬をも挫《ひ》しぐべき力が籠《こも》っているので吾輩は少なからず恐れを抱《いだ》いた。しかし挨拶《あいさつ》をしないと険呑《けんのん》だと思ったから「吾輩は猫である。名前はまだない」となるべく平気を装《よそお》って冷然と答えた。しかしこの時吾輩の心臓はたしかに平時よりも烈しく鼓動しておった。彼は大《おおい》に軽蔑《けいべつ》せる調子で「何、猫だ？\\u3000猫が聞いてあきれらあ。全《ぜん》てえどこに住んでるんだ」随分｜傍若無人《ぼうじゃくぶじん》である。「吾輩はここの教師の家《うち》にいるのだ」「どうせそんな事だろうと思った。いやに瘠《や》せてるじゃねえか」と大王だけに気焔《きえん》を吹きかける。言葉付から察するとどうも良家の猫とも思われない。しかしその膏切《あぶらぎ》って肥満しているところを見ると御馳走を食ってるらしい、豊かに暮しているらしい。吾輩は「そう云う君は一体誰だい」と聞かざるを得なかった。「己《お》れあ車屋の黒《くろ》よ」昂然《こうぜん》たるものだ。車屋の黒はこの近辺で知らぬ者なき乱暴猫である。しかし車屋だけに強いばかりでちっとも教育がないからあまり誰も交際しない。同盟敬遠主義の的《まと》になっている奴だ。吾輩は彼の名を聞いて少々尻こそばゆき感じを起すと同時に、一方では少々｜軽侮《けいぶ》の念も生じたのである。吾輩はまず彼がどのくらい無学であるかを試《ため》してみようと思って左《さ》の問答をして見た。\\n「一体車屋と教師とはどっちがえらいだろう」\\n「車屋の方が強いに極《きま》っていらあな。御めえ［＃「御めえ」に傍点］のうち［＃「うち」に傍点］の主人を見ねえ、まるで骨と皮ばかりだぜ」\\n「君も車屋の猫だけに大分《だいぶ》強そうだ。車屋にいると御馳走《ごちそう》が食えると見えるね」\\n「何《なあ》におれ［＃「おれ」に傍点］なんざ、どこの国へ行ったって食い物に不自由はしねえつもりだ。御めえ［＃「御めえ」に傍点］なんかも茶畠《ちゃばたけ》ばかりぐるぐる廻っていねえで、ちっと己《おれ》の後《あと》へくっ付いて来て見ねえ。一と月とたたねえうちに見違えるように太れるぜ」\\n「追ってそう願う事にしよう。しかし家《うち》は教師の方が車屋より大きいのに住んでいるように思われる」\\n「箆棒《べらぼう》め、うちなんかいくら大きくたって腹の足《た》しになるもんか」\\n\\u3000彼は大《おおい》に肝癪《かんしゃく》に障《さわ》った様子で、寒竹《かんちく》をそいだような耳をしきりとぴく付かせてあららかに立ち去った。吾輩が車屋の黒と知己《ちき》になったのはこれからである。\\n\\u3000その後《ご》吾輩は度々《たびたび》黒と邂逅《かいこう》する。邂逅する毎《ごと》に彼は車屋相当の気焔《きえん》を吐く。先に吾輩が耳にしたという不徳事件も実は黒から聞いたのである。\\n\\u3000或る日例のごとく吾輩と黒は暖かい茶畠《ちゃばたけ》の中で寝転《ねころ》びながらいろいろ雑談をしていると、彼はいつもの自慢話《じまんばな》しをさも新しそうに繰り返したあとで、吾輩に向って下《しも》のごとく質問した。「御めえ［＃「御めえ」に傍点］は今までに鼠を何匹とった事がある」智識は黒よりも余程発達しているつもりだが腕力と勇気とに至っては到底《とうてい》黒の比較にはならないと覚悟はしていたものの、この問に接したる時は、さすがに極《きま》りが善《よ》くはなかった。けれども事実は事実で詐《いつわ》る訳には行かないから、吾輩は「実はとろうとろうと思ってまだ捕《と》らない」と答えた。黒は彼の鼻の先からぴんと突張《つっぱ》っている長い髭《ひげ》をびりびりと震《ふる》わせて非常に笑った。元来黒は自慢をする丈《だけ》にどこか足りないところがあって、彼の気焔《きえん》を感心したように咽喉《のど》をころころ鳴らして謹聴していればはなはだ御《ぎょ》しやすい猫である。吾輩は彼と近付になってから直《すぐ》にこの呼吸を飲み込んだからこの場合にもなまじい己《おの》れを弁護してますます形勢をわるくするのも愚《ぐ》である、いっその事彼に自分の手柄話をしゃべらして御茶を濁すに若《し》くはないと思案を定《さだ》めた。そこでおとなしく「君などは年が年であるから大分《だいぶん》とったろう」とそそのかして見た。果然彼は墻壁《しょうへき》の欠所《けっしょ》に吶喊《とっかん》して来た。「たんとでもねえが三四十はとったろう」とは得意気なる彼の答であった。彼はなお語をつづけて「鼠の百や二百は一人でいつでも引き受けるがいたち［＃「いたち」に傍点］ってえ奴は手に合わねえ。一度いたち［＃「いたち」に傍点］に向って酷《ひど》い目に逢《あ》った」「へえなるほど」と相槌《あいづち》を打つ。黒は大きな眼をぱちつかせて云う。「去年の大掃除の時だ。うちの亭主が石灰《いしばい》の袋を持って椽《えん》の下へ'"
            ],
            "application/vnd.google.colaboratory.intrinsic+json": {
              "type": "string"
            }
          },
          "metadata": {},
          "execution_count": 64
        }
      ]
    },
    {
      "cell_type": "markdown",
      "metadata": {
        "id": "3dDZkDHqqcox"
      },
      "source": [
        "#### 4.1 textからヘッダー（冒頭の------で囲まれている部分）を削除して下さい。"
      ]
    },
    {
      "cell_type": "code",
      "metadata": {
        "scrolled": true,
        "id": "2agl5L_Pqcox",
        "colab": {
          "base_uri": "https://localhost:8080/",
          "height": 313
        },
        "outputId": "6324e8a6-0109-4cc4-b7c3-2455b062ff00"
      },
      "source": [
        "text = re.split(\"\\-{5,}\", text)[2]\n",
        "text"
      ],
      "execution_count": 65,
      "outputs": [
        {
          "output_type": "execute_result",
          "data": {
            "text/plain": [
              "'\\n\\n［＃８字下げ］一［＃「一」は中見出し］\\n\\n\\u3000吾輩《わがはい》は猫である。名前はまだ無い。\\n\\u3000どこで生れたかとんと見当《けんとう》がつかぬ。何でも薄暗いじめじめした所でニャーニャー泣いていた事だけは記憶している。吾輩はここで始めて人間というものを見た。しかもあとで聞くとそれは書生という人間中で一番｜獰悪《どうあく》な種族であったそうだ。この書生というのは時々我々を捕《つかま》えて煮《に》て食うという話である。しかしその当時は何という考もなかったから別段恐しいとも思わなかった。ただ彼の掌《てのひら》に載せられてスーと持ち上げられた時何だかフワフワした感じがあったばかりである。掌の上で少し落ちついて書生の顔を見たのがいわゆる人間というものの見始《みはじめ》であろう。この時妙なものだと思った感じが今でも残っている。第一毛をもって装飾されべきはずの顔がつるつるしてまるで薬缶《やかん》だ。その後《ご》猫にもだいぶ逢《あ》ったがこんな片輪《かたわ》には一度も出会《でく》わした事がない。のみならず顔の真中があまりに突起している。そうしてその穴の中から時々ぷうぷうと煙《けむり》を吹く。どうも咽《む》せぽくて実に弱った。これが人間の飲む煙草《たばこ》というものである事はようやくこの頃知った。\\n\\u3000この書生の掌の裏《うち》でしばらくはよい心持に坐っておったが、しばらくすると非常な速力で運転し始めた。書生が動くのか自分だけが動くのか分らないが無暗《むやみ》に眼が廻る。胸が悪くなる。到底《とうてい》助からないと思っていると、どさりと音がして眼から火が出た。それまでは記憶しているがあとは何の事やらいくら考え出そうとしても分らない。\\n\\u3000ふと気が付いて見ると書生はいない。たくさんおった兄弟が一｜疋《ぴき》も見えぬ。肝心《かんじん》の母親さえ姿を隠してしまった。その上｜今《いま》までの所とは違って無暗《むやみ》に明るい。眼を明いていられぬくらいだ。はてな何でも容子《ようす》がおかしいと、のそのそ這《は》い出して見ると非常に痛い。吾輩は藁《わら》の上から急に笹原の中へ棄てられたのである。\\n\\u3000ようやくの思いで笹原を這い出すと向うに大きな池がある。吾輩は池の前に坐ってどうしたらよかろうと考えて見た。別にこれという分別《ふんべつ》も出ない。しばらくして泣いたら書生がまた迎に来てくれるかと考え付いた。ニャー、ニャーと試みにやって見たが誰も来ない。そのうち池の上をさらさらと風が渡って日が暮れかかる。腹が非常に減って来た。泣きたくても声が出ない。仕方がない、何でもよいから食物《くいもの》のある所まであるこうと決心をしてそろりそろりと池を左《ひだ》りに廻り始めた。どうも非常に苦しい。そこを我慢して無理やりに這《は》って行くとようやくの事で何となく人間臭い所へ出た。ここへ這入《はい》ったら、どうにかなると思って竹垣の崩《くず》れた穴から、とある邸内にもぐり込んだ。縁は不思議なもので、もしこの竹垣が破れていなかったなら、吾輩はついに路傍《ろぼう》に餓死《がし》したかも知れんのである。一樹の蔭とはよく云《い》ったものだ。この垣根の穴は今日《こんにち》に至るまで吾輩が隣家《となり》の三毛を訪問する時の通路になっている。さて邸《やしき》へは忍び込んだもののこれから先どうして善《い》いか分らない。そのうちに暗くなる、腹は減る、寒さは寒し、雨が降って来るという始末でもう一刻の猶予《ゆうよ》が出来なくなった。仕方がないからとにかく明るくて暖かそうな方へ方へとあるいて行く。今から考えるとその時はすでに家の内に這入っておったのだ。ここで吾輩は彼《か》の書生以外の人間を再び見るべき機会に遭遇《そうぐう》したのである。第一に逢ったのがおさんである。これは前の書生より一層乱暴な方で吾輩を見るや否やいきなり頸筋《くびすじ》をつかんで表へ抛《ほう》り出した。いやこれは駄目だと思ったから眼をねぶって運を天に任せていた。しかしひもじいのと寒いのにはどうしても我慢が出来ん。吾輩は再びおさんの隙《すき》を見て台所へ這《は》い上《あが》った。すると間もなくまた投げ出された。吾輩は投げ出されては這い上り、這い上っては投げ出され、何でも同じ事を四五遍繰り返したのを記憶している。その時におさんと云う者はつくづくいやになった。この間おさんの三馬《さんま》を偸《ぬす》んでこの返報をしてやってから、やっと胸の痞《つかえ》が下りた。吾輩が最後につまみ出されようとしたときに、この家《うち》の主人が騒々しい何だといいながら出て来た。下女は吾輩をぶら下げて主人の方へ向けてこの宿《やど》なしの小猫がいくら出しても出しても御台所《おだいどころ》へ上《あが》って来て困りますという。主人は鼻の下の黒い毛を撚《ひね》りながら吾輩の顔をしばらく眺《なが》めておったが、やがてそんなら内へ置いてやれといったまま奥へ這入《はい》ってしまった。主人はあまり口を聞かぬ人と見えた。下女は口惜《くや》しそうに吾輩を台所へ抛《ほう》り出した。かくして吾輩はついにこの家《うち》を自分の住家《すみか》と極《き》める事にしたのである。\\n\\u3000吾輩の主人は滅多《めった》に吾輩と顔を合せる事がない。職業は教師だそうだ。学校から帰ると終日書斎に這入ったぎりほとんど出て来る事がない。家のものは大変な勉強家だと思っている。当人も勉強家であるかのごとく見せている。しかし実際はうちのものがいうような勤勉家ではない。吾輩は時々忍び足に彼の書斎を覗《のぞ》いて見るが、彼はよく昼寝《ひるね》をしている事がある。時々読みかけてある本の上に涎《よだれ》をたらしている。彼は胃弱で皮膚の色が淡黄色《たんこうしょく》を帯びて弾力のない不活溌《ふかっぱつ》な徴候をあらわしている。その癖に大飯を食う。大飯を食った後《あと》でタカジヤスターゼを飲む。飲んだ後で書物をひろげる。二三ページ読むと眠くなる。涎を本の上へ垂らす。これが彼の毎夜繰り返す日課である。吾輩は猫ながら時々考える事がある。教師というものは実に楽《らく》なものだ。人間と生れたら教師となるに限る。こんなに寝ていて勤まるものなら猫にでも出来ぬ事はないと。それでも主人に云わせると教師ほどつらいものはないそうで彼は友達が来る度《たび》に何とかかんとか不平を鳴らしている。\\n\\u3000吾輩がこの家へ住み込んだ当時は、主人以外のものにははなはだ不人望であった。どこへ行っても跳《は》ね付けられて相手にしてくれ手がなかった。いかに珍重されなかったかは、今日《こんにち》に至るまで名前さえつけてくれないのでも分る。吾輩は仕方がないから、出来得る限り吾輩を入れてくれた主人の傍《そば》にいる事をつとめた。朝主人が新聞を読むときは必ず彼の膝《ひざ》の上に乗る。彼が昼寝をするときは必ずその背中《せなか》に乗る。これはあながち主人が好きという訳ではないが別に構い手がなかったからやむを得んのである。その後いろいろ経験の上、朝は飯櫃《めしびつ》の上、夜は炬燵《こたつ》の上、天気のよい昼は椽側《えんがわ》へ寝る事とした。しかし一番心持の好いのは夜《よ》に入《い》ってここのうちの小供の寝床へもぐり込んでいっしょにねる事である。この小供というのは五つと三つで夜になると二人が一つ床へ入《はい》って一間《ひとま》へ寝る。吾輩はいつでも彼等の中間に己《おの》れを容《い》るべき余地を見出《みいだ》してどうにか、こうにか割り込むのであるが、運悪く小供の一人が眼を醒《さ》ますが最後大変な事になる。小供は――ことに小さい方が質《たち》がわるい――猫が来た猫が来たといって夜中でも何でも大きな声で泣き出すのである。すると例の神経胃弱性の主人は必《かなら》ず眼をさまして次の部屋から飛び出してくる。現にせんだってなどは物指《ものさし》で尻ぺたをひどく叩《たた》かれた。\\n\\u3000吾輩は人間と同居して彼等を観察すればするほど、彼等は我儘《わがまま》なものだと断言せざるを得ないようになった。ことに吾輩が時々｜同衾《どうきん》する小供のごときに至っては言語同断《ごんごどうだん》である。自分の勝手な時は人を逆さにしたり、頭へ袋をかぶせたり、抛《ほう》り出したり、へっつい［＃「へっつい」に傍点］の中へ押し込んだりする。しかも吾輩の方で少しでも手出しをしようものなら家内《かない》総がかりで追い廻して迫害を加える。この間もちょっと畳で爪を磨《と》いだら細君が非常に怒《おこ》ってそれから容易に座敷へ入《い》れない。台所の板の間で他《ひと》が顫《ふる》えていても一向《いっこう》平気なものである。吾輩の尊敬する筋向《すじむこう》の白君などは逢《あ》う度毎《たびごと》に人間ほど不人情なものはないと言っておらるる。白君は先日玉のような子猫を四疋｜産《う》まれたのである。ところがそこの家《うち》の書生が三日目にそいつを裏の池へ持って行って四疋ながら棄てて来たそうだ。白君は涙を流してその一部始終を話した上、どうしても我等｜猫族《ねこぞく》が親子の愛を完《まった》くして美しい家族的生活をするには人間と戦ってこれを剿滅《そうめつ》せねばならぬといわれた。一々もっともの議論と思う。また隣りの三毛《みけ》君などは人間が所有権という事を解していないといって大《おおい》に憤慨している。元来我々同族間では目刺《めざし》の頭でも鰡《ぼら》の臍《へそ》でも一番先に見付けたものがこれを食う権利があるものとなっている。もし相手がこの規約を守らなければ腕力に訴えて善《よ》いくらいのものだ。しかるに彼等人間は毫《ごう》もこの観念がないと見えて我等が見付けた御馳走は必ず彼等のために掠奪《りゃくだつ》せらるるのである。彼等はその強力を頼んで正当に吾人が食い得べきものを奪《うば》ってすましている。白君は軍人の家におり三毛君は代言の主人を持っている。吾輩は教師の家に住んでいるだけ、こんな事に関すると両君よりもむしろ楽天である。ただその日その日がどうにかこうにか送られればよい。いくら人間だって、そういつまでも栄える事もあるまい。まあ気を永く猫の時節を待つがよかろう。\\n\\u3000我儘《わがまま》で思い出したからちょっと吾輩の家の主人がこの我儘で失敗した話をしよう。元来この主人は何といって人に勝《すぐ》れて出来る事もないが、何にでもよく手を出したがる。俳句をやってほととぎす［＃「ほととぎす」に傍点］へ投書をしたり、新体詩を明星［＃「明星」に傍点］へ出したり、間違いだらけの英文をかいたり、時によると弓に凝《こ》ったり、謡《うたい》を習ったり、またあるときはヴァイオリンなどをブーブー鳴らしたりするが、気の毒な事には、どれもこれも物になっておらん。その癖やり出すと胃弱の癖にいやに熱心だ。後架《こうか》の中で謡をうたって、近所で後架先生《こうかせんせい》と渾名《あだな》をつけられているにも関せず一向《いっこう》平気なもので、やはりこれは平《たいら》の宗盛《むねもり》にて候《そうろう》を繰返している。みんながそら宗盛だと吹き出すくらいである。この主人がどういう考になったものか吾輩の住み込んでから一月ばかり後《のち》のある月の月給日に、大きな包みを提《さ》げてあわただしく帰って来た。何を買って来たのかと思うと水彩絵具と毛筆とワットマンという紙で今日から謡や俳句をやめて絵をかく決心と見えた。果して翌日から当分の間というものは毎日毎日書斎で昼寝もしないで絵ばかりかいている。しかしそのかき上げたものを見ると何をかいたものやら誰にも鑑定がつかない。当人もあまり甘《うま》くないと思ったものか、ある日その友人で美学とかをやっている人が来た時に下《しも》のような話をしているのを聞いた。\\n「どうも甘《うま》くかけないものだね。人のを見ると何でもないようだが自《みずか》ら筆をとって見ると今更《いまさら》のようにむずかしく感ずる」これは主人の述懐《じゅっかい》である。なるほど詐《いつわ》りのない処だ。彼の友は金縁の眼鏡越《めがねごし》に主人の顔を見ながら、「そう初めから上手にはかけないさ、第一室内の想像ばかりで画《え》がかける訳のものではない。昔《むか》し以太利《イタリー》の大家アンドレア・デル・サルトが言った事がある。画をかくなら何でも自然その物を写せ。天に星辰《せいしん》あり。地に露華《ろか》あり。飛ぶに禽《とり》あり。走るに獣《けもの》あり。池に金魚あり。枯木《こぼく》に寒鴉《かんあ》あり。自然はこれ一幅の大活画《だいかつが》なりと。どうだ君も画らしい画をかこうと思うならちと写生をしたら」\\n「へえアンドレア・デル・サルトがそんな事をいった事があるかい。ちっとも知らなかった。なるほどこりゃもっともだ。実にその通りだ」と主人は無暗《むやみ》に感心している。金縁の裏には嘲《あざ》けるような笑《わらい》が見えた。\\n\\u3000その翌日吾輩は例のごとく椽側《えんがわ》に出て心持善く昼寝《ひるね》をしていたら、主人が例になく書斎から出て来て吾輩の後《うし》ろで何かしきりにやっている。ふと眼が覚《さ》めて何をしているかと一分《いちぶ》ばかり細目に眼をあけて見ると、彼は余念もなくアンドレア・デル・サルトを極《き》め込んでいる。吾輩はこの有様を見て覚えず失笑するのを禁じ得なかった。彼は彼の友に揶揄《やゆ》せられたる結果としてまず手初めに吾輩を写生しつつあるのである。吾輩はすでに十分《じゅうぶん》寝た。欠伸《あくび》がしたくてたまらない。しかしせっかく主人が熱心に筆を執《と》っているのを動いては気の毒だと思って、じっと辛棒《しんぼう》しておった。彼は今吾輩の輪廓をかき上げて顔のあたりを色彩《いろど》っている。吾輩は自白する。吾輩は猫として決して上乗の出来ではない。背といい毛並といい顔の造作といいあえて他の猫に勝《まさ》るとは決して思っておらん。しかしいくら不器量の吾輩でも、今吾輩の主人に描《えが》き出されつつあるような妙な姿とは、どうしても思われない。第一色が違う。吾輩は波斯産《ペルシャさん》の猫のごとく黄を含める淡灰色に漆《うるし》のごとき斑入《ふい》りの皮膚を有している。これだけは誰が見ても疑うべからざる事実と思う。しかるに今主人の彩色を見ると、黄でもなければ黒でもない、灰色でもなければ褐色《とびいろ》でもない、さればとてこれらを交ぜた色でもない。ただ一種の色であるというよりほかに評し方のない色である。その上不思議な事は眼がない。もっともこれは寝ているところを写生したのだから無理もないが眼らしい所さえ見えないから盲猫《めくら》だか寝ている猫だか判然しないのである。吾輩は心中ひそかにいくらアンドレア・デル・サルトでもこれではしようがないと思った。しかしその熱心には感服せざるを得ない。なるべくなら動かずにおってやりたいと思ったが、さっきから小便が催うしている。身内《みうち》の筋肉はむずむずする。最早《もはや》一分も猶予《ゆうよ》が出来ぬ仕儀《しぎ》となったから、やむをえず失敬して両足を前へ存分のして、首を低く押し出してあーあと大《だい》なる欠伸をした。さてこうなって見ると、もうおとなしくしていても仕方がない。どうせ主人の予定は打《ぶ》ち壊《こ》わしたのだから、ついでに裏へ行って用を足《た》そうと思ってのそのそ這い出した。すると主人は失望と怒りを掻《か》き交ぜたような声をして、座敷の中から「この馬鹿野郎」と怒鳴《どな》った。この主人は人を罵《ののし》るときは必ず馬鹿野郎というのが癖である。ほかに悪口の言いようを知らないのだから仕方がないが、今まで辛棒した人の気も知らないで、無暗《むやみ》に馬鹿野郎｜呼《よば》わりは失敬だと思う。それも平生吾輩が彼の背中《せなか》へ乗る時に少しは好い顔でもするならこの漫罵《まんば》も甘んじて受けるが、こっちの便利になる事は何一つ快くしてくれた事もないのに、小便に立ったのを馬鹿野郎とは酷《ひど》い。元来人間というものは自己の力量に慢じてみんな増長している。少し人間より強いものが出て来て窘《いじ》めてやらなくてはこの先どこまで増長するか分らない。\\n\\u3000我儘《わがまま》もこのくらいなら我慢するが吾輩は人間の不徳についてこれよりも数倍悲しむべき報道を耳にした事がある。\\n\\u3000吾輩の家の裏に十坪ばかりの茶園《ちゃえん》がある。広くはないが瀟洒《さっぱり》とした心持ち好く日の当《あた》る所だ。うちの小供があまり騒いで楽々昼寝の出来ない時や、あまり退屈で腹加減のよくない折などは、吾輩はいつでもここへ出て浩然《こうぜん》の気を養うのが例である。ある小春の穏かな日の二時頃であったが、吾輩は昼飯後《ちゅうはんご》快よく一睡した後《のち》、運動かたがたこの茶園へと歩《ほ》を運ばした。茶の木の根を一本一本嗅ぎながら、西側の杉垣のそばまでくると、枯菊を押し倒してその上に大きな猫が前後不覚に寝ている。彼は吾輩の近づくのも一向《いっこう》心付かざるごとく、また心付くも無頓着なるごとく、大きな鼾《いびき》をして長々と体を横《よこた》えて眠っている。他《ひと》の庭内に忍び入りたるものがかくまで平気に睡《ねむ》られるものかと、吾輩は窃《ひそ》かにその大胆なる度胸に驚かざるを得なかった。彼は純粋の黒猫である。わずかに午《ご》を過ぎたる太陽は、透明なる光線を彼の皮膚の上に抛《な》げかけて、きらきらする柔毛《にこげ》の間より眼に見えぬ炎でも燃《も》え出《い》ずるように思われた。彼は猫中の大王とも云うべきほどの偉大なる体格を有している。吾輩の倍はたしかにある。吾輩は嘆賞の念と、好奇の心に前後を忘れて彼の前に佇立《ちょりつ》して余念もなく眺《なが》めていると、静かなる小春の風が、杉垣の上から出たる梧桐《ごとう》の枝を軽《かろ》く誘ってばらばらと二三枚の葉が枯菊の茂みに落ちた。大王はかっとその真丸《まんまる》の眼を開いた。今でも記憶している。その眼は人間の珍重する琥珀《こはく》というものよりも遥《はる》かに美しく輝いていた。彼は身動きもしない。双眸《そうぼう》の奥から射るごとき光を吾輩の矮小《わいしょう》なる額《ひたい》の上にあつめて、御めえ［＃「御めえ」に傍点］は一体何だと云った。大王にしては少々言葉が卑《いや》しいと思ったが何しろその声の底に犬をも挫《ひ》しぐべき力が籠《こも》っているので吾輩は少なからず恐れを抱《いだ》いた。しかし挨拶《あいさつ》をしないと険呑《けんのん》だと思ったから「吾輩は猫である。名前はまだない」となるべく平気を装《よそお》って冷然と答えた。しかしこの時吾輩の心臓はたしかに平時よりも烈しく鼓動しておった。彼は大《おおい》に軽蔑《けいべつ》せる調子で「何、猫だ？\\u3000猫が聞いてあきれらあ。全《ぜん》てえどこに住んでるんだ」随分｜傍若無人《ぼうじゃくぶじん》である。「吾輩はここの教師の家《うち》にいるのだ」「どうせそんな事だろうと思った。いやに瘠《や》せてるじゃねえか」と大王だけに気焔《きえん》を吹きかける。言葉付から察するとどうも良家の猫とも思われない。しかしその膏切《あぶらぎ》って肥満しているところを見ると御馳走を食ってるらしい、豊かに暮しているらしい。吾輩は「そう云う君は一体誰だい」と聞かざるを得なかった。「己《お》れあ車屋の黒《くろ》よ」昂然《こうぜん》たるものだ。車屋の黒はこの近辺で知らぬ者なき乱暴猫である。しかし車屋だけに強いばかりでちっとも教育がないからあまり誰も交際しない。同盟敬遠主義の的《まと》になっている奴だ。吾輩は彼の名を聞いて少々尻こそばゆき感じを起すと同時に、一方では少々｜軽侮《けいぶ》の念も生じたのである。吾輩はまず彼がどのくらい無学であるかを試《ため》してみようと思って左《さ》の問答をして見た。\\n「一体車屋と教師とはどっちがえらいだろう」\\n「車屋の方が強いに極《きま》っていらあな。御めえ［＃「御めえ」に傍点］のうち［＃「うち」に傍点］の主人を見ねえ、まるで骨と皮ばかりだぜ」\\n「君も車屋の猫だけに大分《だいぶ》強そうだ。車屋にいると御馳走《ごちそう》が食えると見えるね」\\n「何《なあ》におれ［＃「おれ」に傍点］なんざ、どこの国へ行ったって食い物に不自由はしねえつもりだ。御めえ［＃「御めえ」に傍点］なんかも茶畠《ちゃばたけ》ばかりぐるぐる廻っていねえで、ちっと己《おれ》の後《あと》へくっ付いて来て見ねえ。一と月とたたねえうちに見違えるように太れるぜ」\\n「追ってそう願う事にしよう。しかし家《うち》は教師の方が車屋より大きいのに住んでいるように思われる」\\n「箆棒《べらぼう》め、うちなんかいくら大きくたって腹の足《た》しになるもんか」\\n\\u3000彼は大《おおい》に肝癪《かんしゃく》に障《さわ》った様子で、寒竹《かんちく》をそいだような耳をしきりとぴく付かせてあららかに立ち去った。吾輩が車屋の黒と知己《ちき》になったのはこれからである。\\n\\u3000その後《ご》吾輩は度々《たびたび》黒と邂逅《かいこう》する。邂逅する毎《ごと》に彼は車屋相当の気焔《きえん》を吐く。先に吾輩が耳にしたという不徳事件も実は黒から聞いたのである。\\n\\u3000或る日例のごとく吾輩と黒は暖かい茶畠《ちゃばたけ》の中で寝転《ねころ》びながらいろいろ雑談をしていると、彼はいつもの自慢話《じまんばな》しをさも新しそうに繰り返したあとで、吾輩に向って下《しも》のごとく質問した。「御めえ［＃「御めえ」に傍点］は今までに鼠を何匹とった事がある」智識は黒よりも余程発達しているつもりだが腕力と勇気とに至っては到底《とうてい》黒の比較にはならないと覚悟はしていたものの、この問に接したる時は、さすがに極《きま》りが善《よ》くはなかった。けれども事実は事実で詐《いつわ》る訳には行かないから、吾輩は「実はとろうとろうと思ってまだ捕《と》らない」と答えた。黒は彼の鼻の先からぴんと突張《つっぱ》っている長い髭《ひげ》をびりびりと震《ふる》わせて非常に笑った。元来黒は自慢をする丈《だけ》にどこか足りないところがあって、彼の気焔《きえん》を感心したように咽喉《のど》をころころ鳴らして謹聴していればはなはだ御《ぎょ》しやすい猫である。吾輩は彼と近付になってから直《すぐ》にこの呼吸を飲み込んだからこの場合にもなまじい己《おの》れを弁護してますます形勢をわるくするのも愚《ぐ》である、いっその事彼に自分の手柄話をしゃべらして御茶を濁すに若《し》くはないと思案を定《さだ》めた。そこでおとなしく「君などは年が年であるから大分《だいぶん》とったろう」とそそのかして見た。果然彼は墻壁《しょうへき》の欠所《けっしょ》に吶喊《とっかん》して来た。「たんとでもねえが三四十はとったろう」とは得意気なる彼の答であった。彼はなお語をつづけて「鼠の百や二百は一人でいつでも引き受けるがいたち［＃「いたち」に傍点］ってえ奴は手に合わねえ。一度いたち［＃「いたち」に傍点］に向って酷《ひど》い目に逢《あ》った」「へえなるほど」と相槌《あいづち》を打つ。黒は大きな眼をぱちつかせて云う。「去年の大掃除の時だ。うちの亭主が石灰《いしばい》の袋を持って椽《えん》の下へ'"
            ],
            "application/vnd.google.colaboratory.intrinsic+json": {
              "type": "string"
            }
          },
          "metadata": {},
          "execution_count": 65
        }
      ]
    },
    {
      "cell_type": "markdown",
      "metadata": {
        "id": "rEclON44qcox"
      },
      "source": [
        "#### 4.2 textから「《》に入る文字（ルビ）」を《》ごと削除して下さい。"
      ]
    },
    {
      "cell_type": "code",
      "metadata": {
        "id": "x9gNtYhKqcox",
        "colab": {
          "base_uri": "https://localhost:8080/",
          "height": 313
        },
        "outputId": "db1851be-0af6-4d77-9f79-a616a8c763ac"
      },
      "source": [
        "text = re.sub(\"《.+?》\", \"\", text)\n",
        "text"
      ],
      "execution_count": 66,
      "outputs": [
        {
          "output_type": "execute_result",
          "data": {
            "text/plain": [
              "'\\n\\n［＃８字下げ］一［＃「一」は中見出し］\\n\\n\\u3000吾輩は猫である。名前はまだ無い。\\n\\u3000どこで生れたかとんと見当がつかぬ。何でも薄暗いじめじめした所でニャーニャー泣いていた事だけは記憶している。吾輩はここで始めて人間というものを見た。しかもあとで聞くとそれは書生という人間中で一番｜獰悪な種族であったそうだ。この書生というのは時々我々を捕えて煮て食うという話である。しかしその当時は何という考もなかったから別段恐しいとも思わなかった。ただ彼の掌に載せられてスーと持ち上げられた時何だかフワフワした感じがあったばかりである。掌の上で少し落ちついて書生の顔を見たのがいわゆる人間というものの見始であろう。この時妙なものだと思った感じが今でも残っている。第一毛をもって装飾されべきはずの顔がつるつるしてまるで薬缶だ。その後猫にもだいぶ逢ったがこんな片輪には一度も出会わした事がない。のみならず顔の真中があまりに突起している。そうしてその穴の中から時々ぷうぷうと煙を吹く。どうも咽せぽくて実に弱った。これが人間の飲む煙草というものである事はようやくこの頃知った。\\n\\u3000この書生の掌の裏でしばらくはよい心持に坐っておったが、しばらくすると非常な速力で運転し始めた。書生が動くのか自分だけが動くのか分らないが無暗に眼が廻る。胸が悪くなる。到底助からないと思っていると、どさりと音がして眼から火が出た。それまでは記憶しているがあとは何の事やらいくら考え出そうとしても分らない。\\n\\u3000ふと気が付いて見ると書生はいない。たくさんおった兄弟が一｜疋も見えぬ。肝心の母親さえ姿を隠してしまった。その上｜今までの所とは違って無暗に明るい。眼を明いていられぬくらいだ。はてな何でも容子がおかしいと、のそのそ這い出して見ると非常に痛い。吾輩は藁の上から急に笹原の中へ棄てられたのである。\\n\\u3000ようやくの思いで笹原を這い出すと向うに大きな池がある。吾輩は池の前に坐ってどうしたらよかろうと考えて見た。別にこれという分別も出ない。しばらくして泣いたら書生がまた迎に来てくれるかと考え付いた。ニャー、ニャーと試みにやって見たが誰も来ない。そのうち池の上をさらさらと風が渡って日が暮れかかる。腹が非常に減って来た。泣きたくても声が出ない。仕方がない、何でもよいから食物のある所まであるこうと決心をしてそろりそろりと池を左りに廻り始めた。どうも非常に苦しい。そこを我慢して無理やりに這って行くとようやくの事で何となく人間臭い所へ出た。ここへ這入ったら、どうにかなると思って竹垣の崩れた穴から、とある邸内にもぐり込んだ。縁は不思議なもので、もしこの竹垣が破れていなかったなら、吾輩はついに路傍に餓死したかも知れんのである。一樹の蔭とはよく云ったものだ。この垣根の穴は今日に至るまで吾輩が隣家の三毛を訪問する時の通路になっている。さて邸へは忍び込んだもののこれから先どうして善いか分らない。そのうちに暗くなる、腹は減る、寒さは寒し、雨が降って来るという始末でもう一刻の猶予が出来なくなった。仕方がないからとにかく明るくて暖かそうな方へ方へとあるいて行く。今から考えるとその時はすでに家の内に這入っておったのだ。ここで吾輩は彼の書生以外の人間を再び見るべき機会に遭遇したのである。第一に逢ったのがおさんである。これは前の書生より一層乱暴な方で吾輩を見るや否やいきなり頸筋をつかんで表へ抛り出した。いやこれは駄目だと思ったから眼をねぶって運を天に任せていた。しかしひもじいのと寒いのにはどうしても我慢が出来ん。吾輩は再びおさんの隙を見て台所へ這い上った。すると間もなくまた投げ出された。吾輩は投げ出されては這い上り、這い上っては投げ出され、何でも同じ事を四五遍繰り返したのを記憶している。その時におさんと云う者はつくづくいやになった。この間おさんの三馬を偸んでこの返報をしてやってから、やっと胸の痞が下りた。吾輩が最後につまみ出されようとしたときに、この家の主人が騒々しい何だといいながら出て来た。下女は吾輩をぶら下げて主人の方へ向けてこの宿なしの小猫がいくら出しても出しても御台所へ上って来て困りますという。主人は鼻の下の黒い毛を撚りながら吾輩の顔をしばらく眺めておったが、やがてそんなら内へ置いてやれといったまま奥へ這入ってしまった。主人はあまり口を聞かぬ人と見えた。下女は口惜しそうに吾輩を台所へ抛り出した。かくして吾輩はついにこの家を自分の住家と極める事にしたのである。\\n\\u3000吾輩の主人は滅多に吾輩と顔を合せる事がない。職業は教師だそうだ。学校から帰ると終日書斎に這入ったぎりほとんど出て来る事がない。家のものは大変な勉強家だと思っている。当人も勉強家であるかのごとく見せている。しかし実際はうちのものがいうような勤勉家ではない。吾輩は時々忍び足に彼の書斎を覗いて見るが、彼はよく昼寝をしている事がある。時々読みかけてある本の上に涎をたらしている。彼は胃弱で皮膚の色が淡黄色を帯びて弾力のない不活溌な徴候をあらわしている。その癖に大飯を食う。大飯を食った後でタカジヤスターゼを飲む。飲んだ後で書物をひろげる。二三ページ読むと眠くなる。涎を本の上へ垂らす。これが彼の毎夜繰り返す日課である。吾輩は猫ながら時々考える事がある。教師というものは実に楽なものだ。人間と生れたら教師となるに限る。こんなに寝ていて勤まるものなら猫にでも出来ぬ事はないと。それでも主人に云わせると教師ほどつらいものはないそうで彼は友達が来る度に何とかかんとか不平を鳴らしている。\\n\\u3000吾輩がこの家へ住み込んだ当時は、主人以外のものにははなはだ不人望であった。どこへ行っても跳ね付けられて相手にしてくれ手がなかった。いかに珍重されなかったかは、今日に至るまで名前さえつけてくれないのでも分る。吾輩は仕方がないから、出来得る限り吾輩を入れてくれた主人の傍にいる事をつとめた。朝主人が新聞を読むときは必ず彼の膝の上に乗る。彼が昼寝をするときは必ずその背中に乗る。これはあながち主人が好きという訳ではないが別に構い手がなかったからやむを得んのである。その後いろいろ経験の上、朝は飯櫃の上、夜は炬燵の上、天気のよい昼は椽側へ寝る事とした。しかし一番心持の好いのは夜に入ってここのうちの小供の寝床へもぐり込んでいっしょにねる事である。この小供というのは五つと三つで夜になると二人が一つ床へ入って一間へ寝る。吾輩はいつでも彼等の中間に己れを容るべき余地を見出してどうにか、こうにか割り込むのであるが、運悪く小供の一人が眼を醒ますが最後大変な事になる。小供は――ことに小さい方が質がわるい――猫が来た猫が来たといって夜中でも何でも大きな声で泣き出すのである。すると例の神経胃弱性の主人は必ず眼をさまして次の部屋から飛び出してくる。現にせんだってなどは物指で尻ぺたをひどく叩かれた。\\n\\u3000吾輩は人間と同居して彼等を観察すればするほど、彼等は我儘なものだと断言せざるを得ないようになった。ことに吾輩が時々｜同衾する小供のごときに至っては言語同断である。自分の勝手な時は人を逆さにしたり、頭へ袋をかぶせたり、抛り出したり、へっつい［＃「へっつい」に傍点］の中へ押し込んだりする。しかも吾輩の方で少しでも手出しをしようものなら家内総がかりで追い廻して迫害を加える。この間もちょっと畳で爪を磨いだら細君が非常に怒ってそれから容易に座敷へ入れない。台所の板の間で他が顫えていても一向平気なものである。吾輩の尊敬する筋向の白君などは逢う度毎に人間ほど不人情なものはないと言っておらるる。白君は先日玉のような子猫を四疋｜産まれたのである。ところがそこの家の書生が三日目にそいつを裏の池へ持って行って四疋ながら棄てて来たそうだ。白君は涙を流してその一部始終を話した上、どうしても我等｜猫族が親子の愛を完くして美しい家族的生活をするには人間と戦ってこれを剿滅せねばならぬといわれた。一々もっともの議論と思う。また隣りの三毛君などは人間が所有権という事を解していないといって大に憤慨している。元来我々同族間では目刺の頭でも鰡の臍でも一番先に見付けたものがこれを食う権利があるものとなっている。もし相手がこの規約を守らなければ腕力に訴えて善いくらいのものだ。しかるに彼等人間は毫もこの観念がないと見えて我等が見付けた御馳走は必ず彼等のために掠奪せらるるのである。彼等はその強力を頼んで正当に吾人が食い得べきものを奪ってすましている。白君は軍人の家におり三毛君は代言の主人を持っている。吾輩は教師の家に住んでいるだけ、こんな事に関すると両君よりもむしろ楽天である。ただその日その日がどうにかこうにか送られればよい。いくら人間だって、そういつまでも栄える事もあるまい。まあ気を永く猫の時節を待つがよかろう。\\n\\u3000我儘で思い出したからちょっと吾輩の家の主人がこの我儘で失敗した話をしよう。元来この主人は何といって人に勝れて出来る事もないが、何にでもよく手を出したがる。俳句をやってほととぎす［＃「ほととぎす」に傍点］へ投書をしたり、新体詩を明星［＃「明星」に傍点］へ出したり、間違いだらけの英文をかいたり、時によると弓に凝ったり、謡を習ったり、またあるときはヴァイオリンなどをブーブー鳴らしたりするが、気の毒な事には、どれもこれも物になっておらん。その癖やり出すと胃弱の癖にいやに熱心だ。後架の中で謡をうたって、近所で後架先生と渾名をつけられているにも関せず一向平気なもので、やはりこれは平の宗盛にて候を繰返している。みんながそら宗盛だと吹き出すくらいである。この主人がどういう考になったものか吾輩の住み込んでから一月ばかり後のある月の月給日に、大きな包みを提げてあわただしく帰って来た。何を買って来たのかと思うと水彩絵具と毛筆とワットマンという紙で今日から謡や俳句をやめて絵をかく決心と見えた。果して翌日から当分の間というものは毎日毎日書斎で昼寝もしないで絵ばかりかいている。しかしそのかき上げたものを見ると何をかいたものやら誰にも鑑定がつかない。当人もあまり甘くないと思ったものか、ある日その友人で美学とかをやっている人が来た時に下のような話をしているのを聞いた。\\n「どうも甘くかけないものだね。人のを見ると何でもないようだが自ら筆をとって見ると今更のようにむずかしく感ずる」これは主人の述懐である。なるほど詐りのない処だ。彼の友は金縁の眼鏡越に主人の顔を見ながら、「そう初めから上手にはかけないさ、第一室内の想像ばかりで画がかける訳のものではない。昔し以太利の大家アンドレア・デル・サルトが言った事がある。画をかくなら何でも自然その物を写せ。天に星辰あり。地に露華あり。飛ぶに禽あり。走るに獣あり。池に金魚あり。枯木に寒鴉あり。自然はこれ一幅の大活画なりと。どうだ君も画らしい画をかこうと思うならちと写生をしたら」\\n「へえアンドレア・デル・サルトがそんな事をいった事があるかい。ちっとも知らなかった。なるほどこりゃもっともだ。実にその通りだ」と主人は無暗に感心している。金縁の裏には嘲けるような笑が見えた。\\n\\u3000その翌日吾輩は例のごとく椽側に出て心持善く昼寝をしていたら、主人が例になく書斎から出て来て吾輩の後ろで何かしきりにやっている。ふと眼が覚めて何をしているかと一分ばかり細目に眼をあけて見ると、彼は余念もなくアンドレア・デル・サルトを極め込んでいる。吾輩はこの有様を見て覚えず失笑するのを禁じ得なかった。彼は彼の友に揶揄せられたる結果としてまず手初めに吾輩を写生しつつあるのである。吾輩はすでに十分寝た。欠伸がしたくてたまらない。しかしせっかく主人が熱心に筆を執っているのを動いては気の毒だと思って、じっと辛棒しておった。彼は今吾輩の輪廓をかき上げて顔のあたりを色彩っている。吾輩は自白する。吾輩は猫として決して上乗の出来ではない。背といい毛並といい顔の造作といいあえて他の猫に勝るとは決して思っておらん。しかしいくら不器量の吾輩でも、今吾輩の主人に描き出されつつあるような妙な姿とは、どうしても思われない。第一色が違う。吾輩は波斯産の猫のごとく黄を含める淡灰色に漆のごとき斑入りの皮膚を有している。これだけは誰が見ても疑うべからざる事実と思う。しかるに今主人の彩色を見ると、黄でもなければ黒でもない、灰色でもなければ褐色でもない、さればとてこれらを交ぜた色でもない。ただ一種の色であるというよりほかに評し方のない色である。その上不思議な事は眼がない。もっともこれは寝ているところを写生したのだから無理もないが眼らしい所さえ見えないから盲猫だか寝ている猫だか判然しないのである。吾輩は心中ひそかにいくらアンドレア・デル・サルトでもこれではしようがないと思った。しかしその熱心には感服せざるを得ない。なるべくなら動かずにおってやりたいと思ったが、さっきから小便が催うしている。身内の筋肉はむずむずする。最早一分も猶予が出来ぬ仕儀となったから、やむをえず失敬して両足を前へ存分のして、首を低く押し出してあーあと大なる欠伸をした。さてこうなって見ると、もうおとなしくしていても仕方がない。どうせ主人の予定は打ち壊わしたのだから、ついでに裏へ行って用を足そうと思ってのそのそ這い出した。すると主人は失望と怒りを掻き交ぜたような声をして、座敷の中から「この馬鹿野郎」と怒鳴った。この主人は人を罵るときは必ず馬鹿野郎というのが癖である。ほかに悪口の言いようを知らないのだから仕方がないが、今まで辛棒した人の気も知らないで、無暗に馬鹿野郎｜呼わりは失敬だと思う。それも平生吾輩が彼の背中へ乗る時に少しは好い顔でもするならこの漫罵も甘んじて受けるが、こっちの便利になる事は何一つ快くしてくれた事もないのに、小便に立ったのを馬鹿野郎とは酷い。元来人間というものは自己の力量に慢じてみんな増長している。少し人間より強いものが出て来て窘めてやらなくてはこの先どこまで増長するか分らない。\\n\\u3000我儘もこのくらいなら我慢するが吾輩は人間の不徳についてこれよりも数倍悲しむべき報道を耳にした事がある。\\n\\u3000吾輩の家の裏に十坪ばかりの茶園がある。広くはないが瀟洒とした心持ち好く日の当る所だ。うちの小供があまり騒いで楽々昼寝の出来ない時や、あまり退屈で腹加減のよくない折などは、吾輩はいつでもここへ出て浩然の気を養うのが例である。ある小春の穏かな日の二時頃であったが、吾輩は昼飯後快よく一睡した後、運動かたがたこの茶園へと歩を運ばした。茶の木の根を一本一本嗅ぎながら、西側の杉垣のそばまでくると、枯菊を押し倒してその上に大きな猫が前後不覚に寝ている。彼は吾輩の近づくのも一向心付かざるごとく、また心付くも無頓着なるごとく、大きな鼾をして長々と体を横えて眠っている。他の庭内に忍び入りたるものがかくまで平気に睡られるものかと、吾輩は窃かにその大胆なる度胸に驚かざるを得なかった。彼は純粋の黒猫である。わずかに午を過ぎたる太陽は、透明なる光線を彼の皮膚の上に抛げかけて、きらきらする柔毛の間より眼に見えぬ炎でも燃え出ずるように思われた。彼は猫中の大王とも云うべきほどの偉大なる体格を有している。吾輩の倍はたしかにある。吾輩は嘆賞の念と、好奇の心に前後を忘れて彼の前に佇立して余念もなく眺めていると、静かなる小春の風が、杉垣の上から出たる梧桐の枝を軽く誘ってばらばらと二三枚の葉が枯菊の茂みに落ちた。大王はかっとその真丸の眼を開いた。今でも記憶している。その眼は人間の珍重する琥珀というものよりも遥かに美しく輝いていた。彼は身動きもしない。双眸の奥から射るごとき光を吾輩の矮小なる額の上にあつめて、御めえ［＃「御めえ」に傍点］は一体何だと云った。大王にしては少々言葉が卑しいと思ったが何しろその声の底に犬をも挫しぐべき力が籠っているので吾輩は少なからず恐れを抱いた。しかし挨拶をしないと険呑だと思ったから「吾輩は猫である。名前はまだない」となるべく平気を装って冷然と答えた。しかしこの時吾輩の心臓はたしかに平時よりも烈しく鼓動しておった。彼は大に軽蔑せる調子で「何、猫だ？\\u3000猫が聞いてあきれらあ。全てえどこに住んでるんだ」随分｜傍若無人である。「吾輩はここの教師の家にいるのだ」「どうせそんな事だろうと思った。いやに瘠せてるじゃねえか」と大王だけに気焔を吹きかける。言葉付から察するとどうも良家の猫とも思われない。しかしその膏切って肥満しているところを見ると御馳走を食ってるらしい、豊かに暮しているらしい。吾輩は「そう云う君は一体誰だい」と聞かざるを得なかった。「己れあ車屋の黒よ」昂然たるものだ。車屋の黒はこの近辺で知らぬ者なき乱暴猫である。しかし車屋だけに強いばかりでちっとも教育がないからあまり誰も交際しない。同盟敬遠主義の的になっている奴だ。吾輩は彼の名を聞いて少々尻こそばゆき感じを起すと同時に、一方では少々｜軽侮の念も生じたのである。吾輩はまず彼がどのくらい無学であるかを試してみようと思って左の問答をして見た。\\n「一体車屋と教師とはどっちがえらいだろう」\\n「車屋の方が強いに極っていらあな。御めえ［＃「御めえ」に傍点］のうち［＃「うち」に傍点］の主人を見ねえ、まるで骨と皮ばかりだぜ」\\n「君も車屋の猫だけに大分強そうだ。車屋にいると御馳走が食えると見えるね」\\n「何におれ［＃「おれ」に傍点］なんざ、どこの国へ行ったって食い物に不自由はしねえつもりだ。御めえ［＃「御めえ」に傍点］なんかも茶畠ばかりぐるぐる廻っていねえで、ちっと己の後へくっ付いて来て見ねえ。一と月とたたねえうちに見違えるように太れるぜ」\\n「追ってそう願う事にしよう。しかし家は教師の方が車屋より大きいのに住んでいるように思われる」\\n「箆棒め、うちなんかいくら大きくたって腹の足しになるもんか」\\n\\u3000彼は大に肝癪に障った様子で、寒竹をそいだような耳をしきりとぴく付かせてあららかに立ち去った。吾輩が車屋の黒と知己になったのはこれからである。\\n\\u3000その後吾輩は度々黒と邂逅する。邂逅する毎に彼は車屋相当の気焔を吐く。先に吾輩が耳にしたという不徳事件も実は黒から聞いたのである。\\n\\u3000或る日例のごとく吾輩と黒は暖かい茶畠の中で寝転びながらいろいろ雑談をしていると、彼はいつもの自慢話しをさも新しそうに繰り返したあとで、吾輩に向って下のごとく質問した。「御めえ［＃「御めえ」に傍点］は今までに鼠を何匹とった事がある」智識は黒よりも余程発達しているつもりだが腕力と勇気とに至っては到底黒の比較にはならないと覚悟はしていたものの、この問に接したる時は、さすがに極りが善くはなかった。けれども事実は事実で詐る訳には行かないから、吾輩は「実はとろうとろうと思ってまだ捕らない」と答えた。黒は彼の鼻の先からぴんと突張っている長い髭をびりびりと震わせて非常に笑った。元来黒は自慢をする丈にどこか足りないところがあって、彼の気焔を感心したように咽喉をころころ鳴らして謹聴していればはなはだ御しやすい猫である。吾輩は彼と近付になってから直にこの呼吸を飲み込んだからこの場合にもなまじい己れを弁護してますます形勢をわるくするのも愚である、いっその事彼に自分の手柄話をしゃべらして御茶を濁すに若くはないと思案を定めた。そこでおとなしく「君などは年が年であるから大分とったろう」とそそのかして見た。果然彼は墻壁の欠所に吶喊して来た。「たんとでもねえが三四十はとったろう」とは得意気なる彼の答であった。彼はなお語をつづけて「鼠の百や二百は一人でいつでも引き受けるがいたち［＃「いたち」に傍点］ってえ奴は手に合わねえ。一度いたち［＃「いたち」に傍点］に向って酷い目に逢った」「へえなるほど」と相槌を打つ。黒は大きな眼をぱちつかせて云う。「去年の大掃除の時だ。うちの亭主が石灰の袋を持って椽の下へ'"
            ],
            "application/vnd.google.colaboratory.intrinsic+json": {
              "type": "string"
            }
          },
          "metadata": {},
          "execution_count": 66
        }
      ]
    },
    {
      "cell_type": "markdown",
      "metadata": {
        "id": "C6HZsi-Xqcox"
      },
      "source": [
        "#### 4.3 textから「[]に入る文字」と[]を削除して下さい。"
      ]
    },
    {
      "cell_type": "code",
      "metadata": {
        "id": "kohMaWZNqcoy",
        "colab": {
          "base_uri": "https://localhost:8080/",
          "height": 313
        },
        "outputId": "0cba7645-3f6c-48c5-cb7c-263f9a2ad1d6"
      },
      "source": [
        "text = re.sub('［＃.+?］', \"\", text)\n",
        "text"
      ],
      "execution_count": 83,
      "outputs": [
        {
          "output_type": "execute_result",
          "data": {
            "text/plain": [
              "'［８字下げ］一［「一」は中見出し］吾輩は猫である。名前はまだ無い。どこで生れたかとんと見当がつかぬ。何でも薄暗いじめじめした所でニャーニャー泣いていた事だけは記憶している。吾輩はここで始めて人間というものを見た。しかもあとで聞くとそれは書生という人間中で一番｜獰悪な種族であったそうだ。この書生というのは時々我々を捕えて煮て食うという話である。しかしその当時は何という考もなかったから別段恐しいとも思わなかった。ただ彼の掌に載せられてスーと持ち上げられた時何だかフワフワした感じがあったばかりである。掌の上で少し落ちついて書生の顔を見たのがいわゆる人間というものの見始であろう。この時妙なものだと思った感じが今でも残っている。第一毛をもって装飾されべきはずの顔がつるつるしてまるで薬缶だ。その後猫にもだいぶ逢ったがこんな片輪には一度も出会わした事がない。のみならず顔の真中があまりに突起している。そうしてその穴の中から時々ぷうぷうと煙を吹く。どうも咽せぽくて実に弱った。これが人間の飲む煙草というものである事はようやくこの頃知った。この書生の掌の裏でしばらくはよい心持に坐っておったが、しばらくすると非常な速力で運転し始めた。書生が動くのか自分だけが動くのか分らないが無暗に眼が廻る。胸が悪くなる。到底助からないと思っていると、どさりと音がして眼から火が出た。それまでは記憶しているがあとは何の事やらいくら考え出そうとしても分らない。ふと気が付いて見ると書生はいない。たくさんおった兄弟が一｜疋も見えぬ。肝心の母親さえ姿を隠してしまった。その上｜今までの所とは違って無暗に明るい。眼を明いていられぬくらいだ。はてな何でも容子がおかしいと、のそのそ這い出して見ると非常に痛い。吾輩は藁の上から急に笹原の中へ棄てられたのである。ようやくの思いで笹原を這い出すと向うに大きな池がある。吾輩は池の前に坐ってどうしたらよかろうと考えて見た。別にこれという分別も出ない。しばらくして泣いたら書生がまた迎に来てくれるかと考え付いた。ニャー、ニャーと試みにやって見たが誰も来ない。そのうち池の上をさらさらと風が渡って日が暮れかかる。腹が非常に減って来た。泣きたくても声が出ない。仕方がない、何でもよいから食物のある所まであるこうと決心をしてそろりそろりと池を左りに廻り始めた。どうも非常に苦しい。そこを我慢して無理やりに這って行くとようやくの事で何となく人間臭い所へ出た。ここへ這入ったら、どうにかなると思って竹垣の崩れた穴から、とある邸内にもぐり込んだ。縁は不思議なもので、もしこの竹垣が破れていなかったなら、吾輩はついに路傍に餓死したかも知れんのである。一樹の蔭とはよく云ったものだ。この垣根の穴は今日に至るまで吾輩が隣家の三毛を訪問する時の通路になっている。さて邸へは忍び込んだもののこれから先どうして善いか分らない。そのうちに暗くなる、腹は減る、寒さは寒し、雨が降って来るという始末でもう一刻の猶予が出来なくなった。仕方がないからとにかく明るくて暖かそうな方へ方へとあるいて行く。今から考えるとその時はすでに家の内に這入っておったのだ。ここで吾輩は彼の書生以外の人間を再び見るべき機会に遭遇したのである。第一に逢ったのがおさんである。これは前の書生より一層乱暴な方で吾輩を見るや否やいきなり頸筋をつかんで表へ抛り出した。いやこれは駄目だと思ったから眼をねぶって運を天に任せていた。しかしひもじいのと寒いのにはどうしても我慢が出来ん。吾輩は再びおさんの隙を見て台所へ這い上った。すると間もなくまた投げ出された。吾輩は投げ出されては這い上り、這い上っては投げ出され、何でも同じ事を四五遍繰り返したのを記憶している。その時におさんと云う者はつくづくいやになった。この間おさんの三馬を偸んでこの返報をしてやってから、やっと胸の痞が下りた。吾輩が最後につまみ出されようとしたときに、この家の主人が騒々しい何だといいながら出て来た。下女は吾輩をぶら下げて主人の方へ向けてこの宿なしの小猫がいくら出しても出しても御台所へ上って来て困りますという。主人は鼻の下の黒い毛を撚りながら吾輩の顔をしばらく眺めておったが、やがてそんなら内へ置いてやれといったまま奥へ這入ってしまった。主人はあまり口を聞かぬ人と見えた。下女は口惜しそうに吾輩を台所へ抛り出した。かくして吾輩はついにこの家を自分の住家と極める事にしたのである。吾輩の主人は滅多に吾輩と顔を合せる事がない。職業は教師だそうだ。学校から帰ると終日書斎に這入ったぎりほとんど出て来る事がない。家のものは大変な勉強家だと思っている。当人も勉強家であるかのごとく見せている。しかし実際はうちのものがいうような勤勉家ではない。吾輩は時々忍び足に彼の書斎を覗いて見るが、彼はよく昼寝をしている事がある。時々読みかけてある本の上に涎をたらしている。彼は胃弱で皮膚の色が淡黄色を帯びて弾力のない不活溌な徴候をあらわしている。その癖に大飯を食う。大飯を食った後でタカジヤスターゼを飲む。飲んだ後で書物をひろげる。二三ページ読むと眠くなる。涎を本の上へ垂らす。これが彼の毎夜繰り返す日課である。吾輩は猫ながら時々考える事がある。教師というものは実に楽なものだ。人間と生れたら教師となるに限る。こんなに寝ていて勤まるものなら猫にでも出来ぬ事はないと。それでも主人に云わせると教師ほどつらいものはないそうで彼は友達が来る度に何とかかんとか不平を鳴らしている。吾輩がこの家へ住み込んだ当時は、主人以外のものにははなはだ不人望であった。どこへ行っても跳ね付けられて相手にしてくれ手がなかった。いかに珍重されなかったかは、今日に至るまで名前さえつけてくれないのでも分る。吾輩は仕方がないから、出来得る限り吾輩を入れてくれた主人の傍にいる事をつとめた。朝主人が新聞を読むときは必ず彼の膝の上に乗る。彼が昼寝をするときは必ずその背中に乗る。これはあながち主人が好きという訳ではないが別に構い手がなかったからやむを得んのである。その後いろいろ経験の上、朝は飯櫃の上、夜は炬燵の上、天気のよい昼は椽側へ寝る事とした。しかし一番心持の好いのは夜に入ってここのうちの小供の寝床へもぐり込んでいっしょにねる事である。この小供というのは五つと三つで夜になると二人が一つ床へ入って一間へ寝る。吾輩はいつでも彼等の中間に己れを容るべき余地を見出してどうにか、こうにか割り込むのであるが、運悪く小供の一人が眼を醒ますが最後大変な事になる。小供は――ことに小さい方が質がわるい――猫が来た猫が来たといって夜中でも何でも大きな声で泣き出すのである。すると例の神経胃弱性の主人は必ず眼をさまして次の部屋から飛び出してくる。現にせんだってなどは物指で尻ぺたをひどく叩かれた。吾輩は人間と同居して彼等を観察すればするほど、彼等は我儘なものだと断言せざるを得ないようになった。ことに吾輩が時々｜同衾する小供のごときに至っては言語同断である。自分の勝手な時は人を逆さにしたり、頭へ袋をかぶせたり、抛り出したり、へっつい［「へっつい」に傍点］の中へ押し込んだりする。しかも吾輩の方で少しでも手出しをしようものなら家内総がかりで追い廻して迫害を加える。この間もちょっと畳で爪を磨いだら細君が非常に怒ってそれから容易に座敷へ入れない。台所の板の間で他が顫えていても一向平気なものである。吾輩の尊敬する筋向の白君などは逢う度毎に人間ほど不人情なものはないと言っておらるる。白君は先日玉のような子猫を四疋｜産まれたのである。ところがそこの家の書生が三日目にそいつを裏の池へ持って行って四疋ながら棄てて来たそうだ。白君は涙を流してその一部始終を話した上、どうしても我等｜猫族が親子の愛を完くして美しい家族的生活をするには人間と戦ってこれを剿滅せねばならぬといわれた。一々もっともの議論と思う。また隣りの三毛君などは人間が所有権という事を解していないといって大に憤慨している。元来我々同族間では目刺の頭でも鰡の臍でも一番先に見付けたものがこれを食う権利があるものとなっている。もし相手がこの規約を守らなければ腕力に訴えて善いくらいのものだ。しかるに彼等人間は毫もこの観念がないと見えて我等が見付けた御馳走は必ず彼等のために掠奪せらるるのである。彼等はその強力を頼んで正当に吾人が食い得べきものを奪ってすましている。白君は軍人の家におり三毛君は代言の主人を持っている。吾輩は教師の家に住んでいるだけ、こんな事に関すると両君よりもむしろ楽天である。ただその日その日がどうにかこうにか送られればよい。いくら人間だって、そういつまでも栄える事もあるまい。まあ気を永く猫の時節を待つがよかろう。我儘で思い出したからちょっと吾輩の家の主人がこの我儘で失敗した話をしよう。元来この主人は何といって人に勝れて出来る事もないが、何にでもよく手を出したがる。俳句をやってほととぎす［「ほととぎす」に傍点］へ投書をしたり、新体詩を明星［「明星」に傍点］へ出したり、間違いだらけの英文をかいたり、時によると弓に凝ったり、謡を習ったり、またあるときはヴァイオリンなどをブーブー鳴らしたりするが、気の毒な事には、どれもこれも物になっておらん。その癖やり出すと胃弱の癖にいやに熱心だ。後架の中で謡をうたって、近所で後架先生と渾名をつけられているにも関せず一向平気なもので、やはりこれは平の宗盛にて候を繰返している。みんながそら宗盛だと吹き出すくらいである。この主人がどういう考になったものか吾輩の住み込んでから一月ばかり後のある月の月給日に、大きな包みを提げてあわただしく帰って来た。何を買って来たのかと思うと水彩絵具と毛筆とワットマンという紙で今日から謡や俳句をやめて絵をかく決心と見えた。果して翌日から当分の間というものは毎日毎日書斎で昼寝もしないで絵ばかりかいている。しかしそのかき上げたものを見ると何をかいたものやら誰にも鑑定がつかない。当人もあまり甘くないと思ったものか、ある日その友人で美学とかをやっている人が来た時に下のような話をしているのを聞いた。「どうも甘くかけないものだね。人のを見ると何でもないようだが自ら筆をとって見ると今更のようにむずかしく感ずる」これは主人の述懐である。なるほど詐りのない処だ。彼の友は金縁の眼鏡越に主人の顔を見ながら、「そう初めから上手にはかけないさ、第一室内の想像ばかりで画がかける訳のものではない。昔し以太利の大家アンドレア・デル・サルトが言った事がある。画をかくなら何でも自然その物を写せ。天に星辰あり。地に露華あり。飛ぶに禽あり。走るに獣あり。池に金魚あり。枯木に寒鴉あり。自然はこれ一幅の大活画なりと。どうだ君も画らしい画をかこうと思うならちと写生をしたら」「へえアンドレア・デル・サルトがそんな事をいった事があるかい。ちっとも知らなかった。なるほどこりゃもっともだ。実にその通りだ」と主人は無暗に感心している。金縁の裏には嘲けるような笑が見えた。その翌日吾輩は例のごとく椽側に出て心持善く昼寝をしていたら、主人が例になく書斎から出て来て吾輩の後ろで何かしきりにやっている。ふと眼が覚めて何をしているかと一分ばかり細目に眼をあけて見ると、彼は余念もなくアンドレア・デル・サルトを極め込んでいる。吾輩はこの有様を見て覚えず失笑するのを禁じ得なかった。彼は彼の友に揶揄せられたる結果としてまず手初めに吾輩を写生しつつあるのである。吾輩はすでに十分寝た。欠伸がしたくてたまらない。しかしせっかく主人が熱心に筆を執っているのを動いては気の毒だと思って、じっと辛棒しておった。彼は今吾輩の輪廓をかき上げて顔のあたりを色彩っている。吾輩は自白する。吾輩は猫として決して上乗の出来ではない。背といい毛並といい顔の造作といいあえて他の猫に勝るとは決して思っておらん。しかしいくら不器量の吾輩でも、今吾輩の主人に描き出されつつあるような妙な姿とは、どうしても思われない。第一色が違う。吾輩は波斯産の猫のごとく黄を含める淡灰色に漆のごとき斑入りの皮膚を有している。これだけは誰が見ても疑うべからざる事実と思う。しかるに今主人の彩色を見ると、黄でもなければ黒でもない、灰色でもなければ褐色でもない、さればとてこれらを交ぜた色でもない。ただ一種の色であるというよりほかに評し方のない色である。その上不思議な事は眼がない。もっともこれは寝ているところを写生したのだから無理もないが眼らしい所さえ見えないから盲猫だか寝ている猫だか判然しないのである。吾輩は心中ひそかにいくらアンドレア・デル・サルトでもこれではしようがないと思った。しかしその熱心には感服せざるを得ない。なるべくなら動かずにおってやりたいと思ったが、さっきから小便が催うしている。身内の筋肉はむずむずする。最早一分も猶予が出来ぬ仕儀となったから、やむをえず失敬して両足を前へ存分のして、首を低く押し出してあーあと大なる欠伸をした。さてこうなって見ると、もうおとなしくしていても仕方がない。どうせ主人の予定は打ち壊わしたのだから、ついでに裏へ行って用を足そうと思ってのそのそ這い出した。すると主人は失望と怒りを掻き交ぜたような声をして、座敷の中から「この馬鹿野郎」と怒鳴った。この主人は人を罵るときは必ず馬鹿野郎というのが癖である。ほかに悪口の言いようを知らないのだから仕方がないが、今まで辛棒した人の気も知らないで、無暗に馬鹿野郎｜呼わりは失敬だと思う。それも平生吾輩が彼の背中へ乗る時に少しは好い顔でもするならこの漫罵も甘んじて受けるが、こっちの便利になる事は何一つ快くしてくれた事もないのに、小便に立ったのを馬鹿野郎とは酷い。元来人間というものは自己の力量に慢じてみんな増長している。少し人間より強いものが出て来て窘めてやらなくてはこの先どこまで増長するか分らない。我儘もこのくらいなら我慢するが吾輩は人間の不徳についてこれよりも数倍悲しむべき報道を耳にした事がある。吾輩の家の裏に十坪ばかりの茶園がある。広くはないが瀟洒とした心持ち好く日の当る所だ。うちの小供があまり騒いで楽々昼寝の出来ない時や、あまり退屈で腹加減のよくない折などは、吾輩はいつでもここへ出て浩然の気を養うのが例である。ある小春の穏かな日の二時頃であったが、吾輩は昼飯後快よく一睡した後、運動かたがたこの茶園へと歩を運ばした。茶の木の根を一本一本嗅ぎながら、西側の杉垣のそばまでくると、枯菊を押し倒してその上に大きな猫が前後不覚に寝ている。彼は吾輩の近づくのも一向心付かざるごとく、また心付くも無頓着なるごとく、大きな鼾をして長々と体を横えて眠っている。他の庭内に忍び入りたるものがかくまで平気に睡られるものかと、吾輩は窃かにその大胆なる度胸に驚かざるを得なかった。彼は純粋の黒猫である。わずかに午を過ぎたる太陽は、透明なる光線を彼の皮膚の上に抛げかけて、きらきらする柔毛の間より眼に見えぬ炎でも燃え出ずるように思われた。彼は猫中の大王とも云うべきほどの偉大なる体格を有している。吾輩の倍はたしかにある。吾輩は嘆賞の念と、好奇の心に前後を忘れて彼の前に佇立して余念もなく眺めていると、静かなる小春の風が、杉垣の上から出たる梧桐の枝を軽く誘ってばらばらと二三枚の葉が枯菊の茂みに落ちた。大王はかっとその真丸の眼を開いた。今でも記憶している。その眼は人間の珍重する琥珀というものよりも遥かに美しく輝いていた。彼は身動きもしない。双眸の奥から射るごとき光を吾輩の矮小なる額の上にあつめて、御めえ［「御めえ」に傍点］は一体何だと云った。大王にしては少々言葉が卑しいと思ったが何しろその声の底に犬をも挫しぐべき力が籠っているので吾輩は少なからず恐れを抱いた。しかし挨拶をしないと険呑だと思ったから「吾輩は猫である。名前はまだない」となるべく平気を装って冷然と答えた。しかしこの時吾輩の心臓はたしかに平時よりも烈しく鼓動しておった。彼は大に軽蔑せる調子で「何、猫だ？\\u3000猫が聞いてあきれらあ。全てえどこに住んでるんだ」随分｜傍若無人である。「吾輩はここの教師の家にいるのだ」「どうせそんな事だろうと思った。いやに瘠せてるじゃねえか」と大王だけに気焔を吹きかける。言葉付から察するとどうも良家の猫とも思われない。しかしその膏切って肥満しているところを見ると御馳走を食ってるらしい、豊かに暮しているらしい。吾輩は「そう云う君は一体誰だい」と聞かざるを得なかった。「己れあ車屋の黒よ」昂然たるものだ。車屋の黒はこの近辺で知らぬ者なき乱暴猫である。しかし車屋だけに強いばかりでちっとも教育がないからあまり誰も交際しない。同盟敬遠主義の的になっている奴だ。吾輩は彼の名を聞いて少々尻こそばゆき感じを起すと同時に、一方では少々｜軽侮の念も生じたのである。吾輩はまず彼がどのくらい無学であるかを試してみようと思って左の問答をして見た。「一体車屋と教師とはどっちがえらいだろう」「車屋の方が強いに極っていらあな。御めえ［「御めえ」に傍点］のうち［「うち」に傍点］の主人を見ねえ、まるで骨と皮ばかりだぜ」「君も車屋の猫だけに大分強そうだ。車屋にいると御馳走が食えると見えるね」「何におれ［「おれ」に傍点］なんざ、どこの国へ行ったって食い物に不自由はしねえつもりだ。御めえ［「御めえ」に傍点］なんかも茶畠ばかりぐるぐる廻っていねえで、ちっと己の後へくっ付いて来て見ねえ。一と月とたたねえうちに見違えるように太れるぜ」「追ってそう願う事にしよう。しかし家は教師の方が車屋より大きいのに住んでいるように思われる」「箆棒め、うちなんかいくら大きくたって腹の足しになるもんか」彼は大に肝癪に障った様子で、寒竹をそいだような耳をしきりとぴく付かせてあららかに立ち去った。吾輩が車屋の黒と知己になったのはこれからである。その後吾輩は度々黒と邂逅する。邂逅する毎に彼は車屋相当の気焔を吐く。先に吾輩が耳にしたという不徳事件も実は黒から聞いたのである。或る日例のごとく吾輩と黒は暖かい茶畠の中で寝転びながらいろいろ雑談をしていると、彼はいつもの自慢話しをさも新しそうに繰り返したあとで、吾輩に向って下のごとく質問した。「御めえ［「御めえ」に傍点］は今までに鼠を何匹とった事がある」智識は黒よりも余程発達しているつもりだが腕力と勇気とに至っては到底黒の比較にはならないと覚悟はしていたものの、この問に接したる時は、さすがに極りが善くはなかった。けれども事実は事実で詐る訳には行かないから、吾輩は「実はとろうとろうと思ってまだ捕らない」と答えた。黒は彼の鼻の先からぴんと突張っている長い髭をびりびりと震わせて非常に笑った。元来黒は自慢をする丈にどこか足りないところがあって、彼の気焔を感心したように咽喉をころころ鳴らして謹聴していればはなはだ御しやすい猫である。吾輩は彼と近付になってから直にこの呼吸を飲み込んだからこの場合にもなまじい己れを弁護してますます形勢をわるくするのも愚である、いっその事彼に自分の手柄話をしゃべらして御茶を濁すに若くはないと思案を定めた。そこでおとなしく「君などは年が年であるから大分とったろう」とそそのかして見た。果然彼は墻壁の欠所に吶喊して来た。「たんとでもねえが三四十はとったろう」とは得意気なる彼の答であった。彼はなお語をつづけて「鼠の百や二百は一人でいつでも引き受けるがいたち［「いたち」に傍点］ってえ奴は手に合わねえ。一度いたち［「いたち」に傍点］に向って酷い目に逢った」「へえなるほど」と相槌を打つ。黒は大きな眼をぱちつかせて云う。「去年の大掃除の時だ。うちの亭主が石灰の袋を持って椽の下へ'"
            ],
            "application/vnd.google.colaboratory.intrinsic+json": {
              "type": "string"
            }
          },
          "metadata": {},
          "execution_count": 83
        }
      ]
    },
    {
      "cell_type": "markdown",
      "metadata": {
        "id": "F3Hd4fEMqcoy"
      },
      "source": [
        "#### 4.4 textから「空行」を削除して下さい。"
      ]
    },
    {
      "cell_type": "code",
      "metadata": {
        "id": "sOy5b98Lqcoy",
        "colab": {
          "base_uri": "https://localhost:8080/",
          "height": 313
        },
        "outputId": "34092fe5-4258-4fa4-eaef-b35808b05133"
      },
      "source": [
        "text = re.sub(\"\\n\\n\", \"\\n\", text)\n",
        "text = re.sub(\"\\n\\u3000\", \"\", text)\n",
        "text = re.sub(\"\\n\", \"\", text)\n",
        "text"
      ],
      "execution_count": 68,
      "outputs": [
        {
          "output_type": "execute_result",
          "data": {
            "text/plain": [
              "'［８字下げ］一［「一」は中見出し］吾輩は猫である。名前はまだ無い。どこで生れたかとんと見当がつかぬ。何でも薄暗いじめじめした所でニャーニャー泣いていた事だけは記憶している。吾輩はここで始めて人間というものを見た。しかもあとで聞くとそれは書生という人間中で一番｜獰悪な種族であったそうだ。この書生というのは時々我々を捕えて煮て食うという話である。しかしその当時は何という考もなかったから別段恐しいとも思わなかった。ただ彼の掌に載せられてスーと持ち上げられた時何だかフワフワした感じがあったばかりである。掌の上で少し落ちついて書生の顔を見たのがいわゆる人間というものの見始であろう。この時妙なものだと思った感じが今でも残っている。第一毛をもって装飾されべきはずの顔がつるつるしてまるで薬缶だ。その後猫にもだいぶ逢ったがこんな片輪には一度も出会わした事がない。のみならず顔の真中があまりに突起している。そうしてその穴の中から時々ぷうぷうと煙を吹く。どうも咽せぽくて実に弱った。これが人間の飲む煙草というものである事はようやくこの頃知った。この書生の掌の裏でしばらくはよい心持に坐っておったが、しばらくすると非常な速力で運転し始めた。書生が動くのか自分だけが動くのか分らないが無暗に眼が廻る。胸が悪くなる。到底助からないと思っていると、どさりと音がして眼から火が出た。それまでは記憶しているがあとは何の事やらいくら考え出そうとしても分らない。ふと気が付いて見ると書生はいない。たくさんおった兄弟が一｜疋も見えぬ。肝心の母親さえ姿を隠してしまった。その上｜今までの所とは違って無暗に明るい。眼を明いていられぬくらいだ。はてな何でも容子がおかしいと、のそのそ這い出して見ると非常に痛い。吾輩は藁の上から急に笹原の中へ棄てられたのである。ようやくの思いで笹原を這い出すと向うに大きな池がある。吾輩は池の前に坐ってどうしたらよかろうと考えて見た。別にこれという分別も出ない。しばらくして泣いたら書生がまた迎に来てくれるかと考え付いた。ニャー、ニャーと試みにやって見たが誰も来ない。そのうち池の上をさらさらと風が渡って日が暮れかかる。腹が非常に減って来た。泣きたくても声が出ない。仕方がない、何でもよいから食物のある所まであるこうと決心をしてそろりそろりと池を左りに廻り始めた。どうも非常に苦しい。そこを我慢して無理やりに這って行くとようやくの事で何となく人間臭い所へ出た。ここへ這入ったら、どうにかなると思って竹垣の崩れた穴から、とある邸内にもぐり込んだ。縁は不思議なもので、もしこの竹垣が破れていなかったなら、吾輩はついに路傍に餓死したかも知れんのである。一樹の蔭とはよく云ったものだ。この垣根の穴は今日に至るまで吾輩が隣家の三毛を訪問する時の通路になっている。さて邸へは忍び込んだもののこれから先どうして善いか分らない。そのうちに暗くなる、腹は減る、寒さは寒し、雨が降って来るという始末でもう一刻の猶予が出来なくなった。仕方がないからとにかく明るくて暖かそうな方へ方へとあるいて行く。今から考えるとその時はすでに家の内に這入っておったのだ。ここで吾輩は彼の書生以外の人間を再び見るべき機会に遭遇したのである。第一に逢ったのがおさんである。これは前の書生より一層乱暴な方で吾輩を見るや否やいきなり頸筋をつかんで表へ抛り出した。いやこれは駄目だと思ったから眼をねぶって運を天に任せていた。しかしひもじいのと寒いのにはどうしても我慢が出来ん。吾輩は再びおさんの隙を見て台所へ這い上った。すると間もなくまた投げ出された。吾輩は投げ出されては這い上り、這い上っては投げ出され、何でも同じ事を四五遍繰り返したのを記憶している。その時におさんと云う者はつくづくいやになった。この間おさんの三馬を偸んでこの返報をしてやってから、やっと胸の痞が下りた。吾輩が最後につまみ出されようとしたときに、この家の主人が騒々しい何だといいながら出て来た。下女は吾輩をぶら下げて主人の方へ向けてこの宿なしの小猫がいくら出しても出しても御台所へ上って来て困りますという。主人は鼻の下の黒い毛を撚りながら吾輩の顔をしばらく眺めておったが、やがてそんなら内へ置いてやれといったまま奥へ這入ってしまった。主人はあまり口を聞かぬ人と見えた。下女は口惜しそうに吾輩を台所へ抛り出した。かくして吾輩はついにこの家を自分の住家と極める事にしたのである。吾輩の主人は滅多に吾輩と顔を合せる事がない。職業は教師だそうだ。学校から帰ると終日書斎に這入ったぎりほとんど出て来る事がない。家のものは大変な勉強家だと思っている。当人も勉強家であるかのごとく見せている。しかし実際はうちのものがいうような勤勉家ではない。吾輩は時々忍び足に彼の書斎を覗いて見るが、彼はよく昼寝をしている事がある。時々読みかけてある本の上に涎をたらしている。彼は胃弱で皮膚の色が淡黄色を帯びて弾力のない不活溌な徴候をあらわしている。その癖に大飯を食う。大飯を食った後でタカジヤスターゼを飲む。飲んだ後で書物をひろげる。二三ページ読むと眠くなる。涎を本の上へ垂らす。これが彼の毎夜繰り返す日課である。吾輩は猫ながら時々考える事がある。教師というものは実に楽なものだ。人間と生れたら教師となるに限る。こんなに寝ていて勤まるものなら猫にでも出来ぬ事はないと。それでも主人に云わせると教師ほどつらいものはないそうで彼は友達が来る度に何とかかんとか不平を鳴らしている。吾輩がこの家へ住み込んだ当時は、主人以外のものにははなはだ不人望であった。どこへ行っても跳ね付けられて相手にしてくれ手がなかった。いかに珍重されなかったかは、今日に至るまで名前さえつけてくれないのでも分る。吾輩は仕方がないから、出来得る限り吾輩を入れてくれた主人の傍にいる事をつとめた。朝主人が新聞を読むときは必ず彼の膝の上に乗る。彼が昼寝をするときは必ずその背中に乗る。これはあながち主人が好きという訳ではないが別に構い手がなかったからやむを得んのである。その後いろいろ経験の上、朝は飯櫃の上、夜は炬燵の上、天気のよい昼は椽側へ寝る事とした。しかし一番心持の好いのは夜に入ってここのうちの小供の寝床へもぐり込んでいっしょにねる事である。この小供というのは五つと三つで夜になると二人が一つ床へ入って一間へ寝る。吾輩はいつでも彼等の中間に己れを容るべき余地を見出してどうにか、こうにか割り込むのであるが、運悪く小供の一人が眼を醒ますが最後大変な事になる。小供は――ことに小さい方が質がわるい――猫が来た猫が来たといって夜中でも何でも大きな声で泣き出すのである。すると例の神経胃弱性の主人は必ず眼をさまして次の部屋から飛び出してくる。現にせんだってなどは物指で尻ぺたをひどく叩かれた。吾輩は人間と同居して彼等を観察すればするほど、彼等は我儘なものだと断言せざるを得ないようになった。ことに吾輩が時々｜同衾する小供のごときに至っては言語同断である。自分の勝手な時は人を逆さにしたり、頭へ袋をかぶせたり、抛り出したり、へっつい［「へっつい」に傍点］の中へ押し込んだりする。しかも吾輩の方で少しでも手出しをしようものなら家内総がかりで追い廻して迫害を加える。この間もちょっと畳で爪を磨いだら細君が非常に怒ってそれから容易に座敷へ入れない。台所の板の間で他が顫えていても一向平気なものである。吾輩の尊敬する筋向の白君などは逢う度毎に人間ほど不人情なものはないと言っておらるる。白君は先日玉のような子猫を四疋｜産まれたのである。ところがそこの家の書生が三日目にそいつを裏の池へ持って行って四疋ながら棄てて来たそうだ。白君は涙を流してその一部始終を話した上、どうしても我等｜猫族が親子の愛を完くして美しい家族的生活をするには人間と戦ってこれを剿滅せねばならぬといわれた。一々もっともの議論と思う。また隣りの三毛君などは人間が所有権という事を解していないといって大に憤慨している。元来我々同族間では目刺の頭でも鰡の臍でも一番先に見付けたものがこれを食う権利があるものとなっている。もし相手がこの規約を守らなければ腕力に訴えて善いくらいのものだ。しかるに彼等人間は毫もこの観念がないと見えて我等が見付けた御馳走は必ず彼等のために掠奪せらるるのである。彼等はその強力を頼んで正当に吾人が食い得べきものを奪ってすましている。白君は軍人の家におり三毛君は代言の主人を持っている。吾輩は教師の家に住んでいるだけ、こんな事に関すると両君よりもむしろ楽天である。ただその日その日がどうにかこうにか送られればよい。いくら人間だって、そういつまでも栄える事もあるまい。まあ気を永く猫の時節を待つがよかろう。我儘で思い出したからちょっと吾輩の家の主人がこの我儘で失敗した話をしよう。元来この主人は何といって人に勝れて出来る事もないが、何にでもよく手を出したがる。俳句をやってほととぎす［「ほととぎす」に傍点］へ投書をしたり、新体詩を明星［「明星」に傍点］へ出したり、間違いだらけの英文をかいたり、時によると弓に凝ったり、謡を習ったり、またあるときはヴァイオリンなどをブーブー鳴らしたりするが、気の毒な事には、どれもこれも物になっておらん。その癖やり出すと胃弱の癖にいやに熱心だ。後架の中で謡をうたって、近所で後架先生と渾名をつけられているにも関せず一向平気なもので、やはりこれは平の宗盛にて候を繰返している。みんながそら宗盛だと吹き出すくらいである。この主人がどういう考になったものか吾輩の住み込んでから一月ばかり後のある月の月給日に、大きな包みを提げてあわただしく帰って来た。何を買って来たのかと思うと水彩絵具と毛筆とワットマンという紙で今日から謡や俳句をやめて絵をかく決心と見えた。果して翌日から当分の間というものは毎日毎日書斎で昼寝もしないで絵ばかりかいている。しかしそのかき上げたものを見ると何をかいたものやら誰にも鑑定がつかない。当人もあまり甘くないと思ったものか、ある日その友人で美学とかをやっている人が来た時に下のような話をしているのを聞いた。「どうも甘くかけないものだね。人のを見ると何でもないようだが自ら筆をとって見ると今更のようにむずかしく感ずる」これは主人の述懐である。なるほど詐りのない処だ。彼の友は金縁の眼鏡越に主人の顔を見ながら、「そう初めから上手にはかけないさ、第一室内の想像ばかりで画がかける訳のものではない。昔し以太利の大家アンドレア・デル・サルトが言った事がある。画をかくなら何でも自然その物を写せ。天に星辰あり。地に露華あり。飛ぶに禽あり。走るに獣あり。池に金魚あり。枯木に寒鴉あり。自然はこれ一幅の大活画なりと。どうだ君も画らしい画をかこうと思うならちと写生をしたら」「へえアンドレア・デル・サルトがそんな事をいった事があるかい。ちっとも知らなかった。なるほどこりゃもっともだ。実にその通りだ」と主人は無暗に感心している。金縁の裏には嘲けるような笑が見えた。その翌日吾輩は例のごとく椽側に出て心持善く昼寝をしていたら、主人が例になく書斎から出て来て吾輩の後ろで何かしきりにやっている。ふと眼が覚めて何をしているかと一分ばかり細目に眼をあけて見ると、彼は余念もなくアンドレア・デル・サルトを極め込んでいる。吾輩はこの有様を見て覚えず失笑するのを禁じ得なかった。彼は彼の友に揶揄せられたる結果としてまず手初めに吾輩を写生しつつあるのである。吾輩はすでに十分寝た。欠伸がしたくてたまらない。しかしせっかく主人が熱心に筆を執っているのを動いては気の毒だと思って、じっと辛棒しておった。彼は今吾輩の輪廓をかき上げて顔のあたりを色彩っている。吾輩は自白する。吾輩は猫として決して上乗の出来ではない。背といい毛並といい顔の造作といいあえて他の猫に勝るとは決して思っておらん。しかしいくら不器量の吾輩でも、今吾輩の主人に描き出されつつあるような妙な姿とは、どうしても思われない。第一色が違う。吾輩は波斯産の猫のごとく黄を含める淡灰色に漆のごとき斑入りの皮膚を有している。これだけは誰が見ても疑うべからざる事実と思う。しかるに今主人の彩色を見ると、黄でもなければ黒でもない、灰色でもなければ褐色でもない、さればとてこれらを交ぜた色でもない。ただ一種の色であるというよりほかに評し方のない色である。その上不思議な事は眼がない。もっともこれは寝ているところを写生したのだから無理もないが眼らしい所さえ見えないから盲猫だか寝ている猫だか判然しないのである。吾輩は心中ひそかにいくらアンドレア・デル・サルトでもこれではしようがないと思った。しかしその熱心には感服せざるを得ない。なるべくなら動かずにおってやりたいと思ったが、さっきから小便が催うしている。身内の筋肉はむずむずする。最早一分も猶予が出来ぬ仕儀となったから、やむをえず失敬して両足を前へ存分のして、首を低く押し出してあーあと大なる欠伸をした。さてこうなって見ると、もうおとなしくしていても仕方がない。どうせ主人の予定は打ち壊わしたのだから、ついでに裏へ行って用を足そうと思ってのそのそ這い出した。すると主人は失望と怒りを掻き交ぜたような声をして、座敷の中から「この馬鹿野郎」と怒鳴った。この主人は人を罵るときは必ず馬鹿野郎というのが癖である。ほかに悪口の言いようを知らないのだから仕方がないが、今まで辛棒した人の気も知らないで、無暗に馬鹿野郎｜呼わりは失敬だと思う。それも平生吾輩が彼の背中へ乗る時に少しは好い顔でもするならこの漫罵も甘んじて受けるが、こっちの便利になる事は何一つ快くしてくれた事もないのに、小便に立ったのを馬鹿野郎とは酷い。元来人間というものは自己の力量に慢じてみんな増長している。少し人間より強いものが出て来て窘めてやらなくてはこの先どこまで増長するか分らない。我儘もこのくらいなら我慢するが吾輩は人間の不徳についてこれよりも数倍悲しむべき報道を耳にした事がある。吾輩の家の裏に十坪ばかりの茶園がある。広くはないが瀟洒とした心持ち好く日の当る所だ。うちの小供があまり騒いで楽々昼寝の出来ない時や、あまり退屈で腹加減のよくない折などは、吾輩はいつでもここへ出て浩然の気を養うのが例である。ある小春の穏かな日の二時頃であったが、吾輩は昼飯後快よく一睡した後、運動かたがたこの茶園へと歩を運ばした。茶の木の根を一本一本嗅ぎながら、西側の杉垣のそばまでくると、枯菊を押し倒してその上に大きな猫が前後不覚に寝ている。彼は吾輩の近づくのも一向心付かざるごとく、また心付くも無頓着なるごとく、大きな鼾をして長々と体を横えて眠っている。他の庭内に忍び入りたるものがかくまで平気に睡られるものかと、吾輩は窃かにその大胆なる度胸に驚かざるを得なかった。彼は純粋の黒猫である。わずかに午を過ぎたる太陽は、透明なる光線を彼の皮膚の上に抛げかけて、きらきらする柔毛の間より眼に見えぬ炎でも燃え出ずるように思われた。彼は猫中の大王とも云うべきほどの偉大なる体格を有している。吾輩の倍はたしかにある。吾輩は嘆賞の念と、好奇の心に前後を忘れて彼の前に佇立して余念もなく眺めていると、静かなる小春の風が、杉垣の上から出たる梧桐の枝を軽く誘ってばらばらと二三枚の葉が枯菊の茂みに落ちた。大王はかっとその真丸の眼を開いた。今でも記憶している。その眼は人間の珍重する琥珀というものよりも遥かに美しく輝いていた。彼は身動きもしない。双眸の奥から射るごとき光を吾輩の矮小なる額の上にあつめて、御めえ［「御めえ」に傍点］は一体何だと云った。大王にしては少々言葉が卑しいと思ったが何しろその声の底に犬をも挫しぐべき力が籠っているので吾輩は少なからず恐れを抱いた。しかし挨拶をしないと険呑だと思ったから「吾輩は猫である。名前はまだない」となるべく平気を装って冷然と答えた。しかしこの時吾輩の心臓はたしかに平時よりも烈しく鼓動しておった。彼は大に軽蔑せる調子で「何、猫だ？\\u3000猫が聞いてあきれらあ。全てえどこに住んでるんだ」随分｜傍若無人である。「吾輩はここの教師の家にいるのだ」「どうせそんな事だろうと思った。いやに瘠せてるじゃねえか」と大王だけに気焔を吹きかける。言葉付から察するとどうも良家の猫とも思われない。しかしその膏切って肥満しているところを見ると御馳走を食ってるらしい、豊かに暮しているらしい。吾輩は「そう云う君は一体誰だい」と聞かざるを得なかった。「己れあ車屋の黒よ」昂然たるものだ。車屋の黒はこの近辺で知らぬ者なき乱暴猫である。しかし車屋だけに強いばかりでちっとも教育がないからあまり誰も交際しない。同盟敬遠主義の的になっている奴だ。吾輩は彼の名を聞いて少々尻こそばゆき感じを起すと同時に、一方では少々｜軽侮の念も生じたのである。吾輩はまず彼がどのくらい無学であるかを試してみようと思って左の問答をして見た。「一体車屋と教師とはどっちがえらいだろう」「車屋の方が強いに極っていらあな。御めえ［「御めえ」に傍点］のうち［「うち」に傍点］の主人を見ねえ、まるで骨と皮ばかりだぜ」「君も車屋の猫だけに大分強そうだ。車屋にいると御馳走が食えると見えるね」「何におれ［「おれ」に傍点］なんざ、どこの国へ行ったって食い物に不自由はしねえつもりだ。御めえ［「御めえ」に傍点］なんかも茶畠ばかりぐるぐる廻っていねえで、ちっと己の後へくっ付いて来て見ねえ。一と月とたたねえうちに見違えるように太れるぜ」「追ってそう願う事にしよう。しかし家は教師の方が車屋より大きいのに住んでいるように思われる」「箆棒め、うちなんかいくら大きくたって腹の足しになるもんか」彼は大に肝癪に障った様子で、寒竹をそいだような耳をしきりとぴく付かせてあららかに立ち去った。吾輩が車屋の黒と知己になったのはこれからである。その後吾輩は度々黒と邂逅する。邂逅する毎に彼は車屋相当の気焔を吐く。先に吾輩が耳にしたという不徳事件も実は黒から聞いたのである。或る日例のごとく吾輩と黒は暖かい茶畠の中で寝転びながらいろいろ雑談をしていると、彼はいつもの自慢話しをさも新しそうに繰り返したあとで、吾輩に向って下のごとく質問した。「御めえ［「御めえ」に傍点］は今までに鼠を何匹とった事がある」智識は黒よりも余程発達しているつもりだが腕力と勇気とに至っては到底黒の比較にはならないと覚悟はしていたものの、この問に接したる時は、さすがに極りが善くはなかった。けれども事実は事実で詐る訳には行かないから、吾輩は「実はとろうとろうと思ってまだ捕らない」と答えた。黒は彼の鼻の先からぴんと突張っている長い髭をびりびりと震わせて非常に笑った。元来黒は自慢をする丈にどこか足りないところがあって、彼の気焔を感心したように咽喉をころころ鳴らして謹聴していればはなはだ御しやすい猫である。吾輩は彼と近付になってから直にこの呼吸を飲み込んだからこの場合にもなまじい己れを弁護してますます形勢をわるくするのも愚である、いっその事彼に自分の手柄話をしゃべらして御茶を濁すに若くはないと思案を定めた。そこでおとなしく「君などは年が年であるから大分とったろう」とそそのかして見た。果然彼は墻壁の欠所に吶喊して来た。「たんとでもねえが三四十はとったろう」とは得意気なる彼の答であった。彼はなお語をつづけて「鼠の百や二百は一人でいつでも引き受けるがいたち［「いたち」に傍点］ってえ奴は手に合わねえ。一度いたち［「いたち」に傍点］に向って酷い目に逢った」「へえなるほど」と相槌を打つ。黒は大きな眼をぱちつかせて云う。「去年の大掃除の時だ。うちの亭主が石灰の袋を持って椽の下へ'"
            ],
            "application/vnd.google.colaboratory.intrinsic+json": {
              "type": "string"
            }
          },
          "metadata": {},
          "execution_count": 68
        }
      ]
    },
    {
      "cell_type": "markdown",
      "metadata": {
        "id": "R-nn2c0Mqcoy"
      },
      "source": [
        "#### 4.5 Tokenizerインスタンスを作成して下さい。"
      ]
    },
    {
      "cell_type": "code",
      "metadata": {
        "id": "Z9gOJW6Kqcoy",
        "colab": {
          "base_uri": "https://localhost:8080/"
        },
        "outputId": "6e96a21d-09fe-4cbd-bed2-d690b48b2523"
      },
      "source": [
        "t = Tokenizer()\n",
        "t"
      ],
      "execution_count": 69,
      "outputs": [
        {
          "output_type": "execute_result",
          "data": {
            "text/plain": [
              "<janome.tokenizer.Tokenizer at 0x7f7a1af2aee0>"
            ]
          },
          "metadata": {},
          "execution_count": 69
        }
      ]
    },
    {
      "cell_type": "markdown",
      "metadata": {
        "id": "U_60HT4Eqcoy"
      },
      "source": [
        "#### 4.6 形態素解析をして、名詞、動詞、形容詞のみを配列で抽出する関数を作成し、「明日は良い天気になる可能性が非常に高い」と言う文字列を関数に入力した結果を出力して下さい。"
      ]
    },
    {
      "cell_type": "code",
      "metadata": {
        "id": "sRE-N2ZBqcoy",
        "colab": {
          "base_uri": "https://localhost:8080/"
        },
        "outputId": "ec77dd6e-d996-4db7-d4a3-a4fdd338129f"
      },
      "source": [
        "def words(text):\n",
        "  tokens = t.tokenize(text)\n",
        "  return [token.base_form for token in tokens\n",
        "          if token.part_of_speech.split(\",\")[0] in [\"名詞\", \"動詞\", \"形容詞\"]]\n",
        "\n",
        "ret = words(\"明日は良い天気になる可能性が非常に高い。\")\n",
        "for word in ret:\n",
        "  print(word)"
      ],
      "execution_count": 71,
      "outputs": [
        {
          "output_type": "stream",
          "name": "stdout",
          "text": [
            "明日\n",
            "良い\n",
            "天気\n",
            "なる\n",
            "可能\n",
            "性\n",
            "非常\n",
            "高い\n"
          ]
        }
      ]
    },
    {
      "cell_type": "markdown",
      "metadata": {
        "id": "rMhgs9C6qcoz"
      },
      "source": [
        "#### 4.7 全体のテキストを句点('。')で区切った配列にし、上から10要素を出力して下さい。"
      ]
    },
    {
      "cell_type": "code",
      "metadata": {
        "id": "iFiugCvmqcoz",
        "colab": {
          "base_uri": "https://localhost:8080/"
        },
        "outputId": "0da84688-b8a3-4981-b83a-8609a16d3737"
      },
      "source": [
        "sentences = text.split(\"。\")\n",
        "sentences[:10]"
      ],
      "execution_count": 72,
      "outputs": [
        {
          "output_type": "execute_result",
          "data": {
            "text/plain": [
              "['［８字下げ］一［「一」は中見出し］吾輩は猫である',\n",
              " '名前はまだ無い',\n",
              " 'どこで生れたかとんと見当がつかぬ',\n",
              " '何でも薄暗いじめじめした所でニャーニャー泣いていた事だけは記憶している',\n",
              " '吾輩はここで始めて人間というものを見た',\n",
              " 'しかもあとで聞くとそれは書生という人間中で一番｜獰悪な種族であったそうだ',\n",
              " 'この書生というのは時々我々を捕えて煮て食うという話である',\n",
              " 'しかしその当時は何という考もなかったから別段恐しいとも思わなかった',\n",
              " 'ただ彼の掌に載せられてスーと持ち上げられた時何だかフワフワした感じがあったばかりである',\n",
              " '掌の上で少し落ちついて書生の顔を見たのがいわゆる人間というものの見始であろう']"
            ]
          },
          "metadata": {},
          "execution_count": 72
        }
      ]
    },
    {
      "cell_type": "markdown",
      "metadata": {
        "id": "KjVwgxisqcoz"
      },
      "source": [
        "#### 4.8 それぞれの文章を単語リストに変換する処理を作成し、1文の要素を出力して下さい。"
      ]
    },
    {
      "cell_type": "code",
      "metadata": {
        "id": "I2bjwl-_qcoz",
        "colab": {
          "base_uri": "https://localhost:8080/"
        },
        "outputId": "0f2545e7-4f73-4e36-9d07-4f23ba576176"
      },
      "source": [
        "word_list = [words(sentence) for sentence in sentences]\n",
        "for word in word_list[0]:\n",
        "    print(word)"
      ],
      "execution_count": 79,
      "outputs": [
        {
          "output_type": "stream",
          "name": "stdout",
          "text": [
            "８\n",
            "字\n",
            "下げ\n",
            "一\n",
            "一\n",
            "見出し\n",
            "吾輩\n",
            "猫\n"
          ]
        }
      ]
    },
    {
      "cell_type": "markdown",
      "metadata": {
        "id": "4VgbhO2Tqcoz"
      },
      "source": [
        "#### 4.9 word2vecをインストールして、word2vecのオプションを「size=100,min_count=5,window=5,iter=100」で設定し、学習を行って下さい。\n",
        " - size: 圧縮次元数\n",
        " - min_count: 出現頻度の低いものをカットする\n",
        " - window: 前後の単語を拾う際の窓の広さを決める\n",
        " - iter: 機械学習の繰り返し回数(デフォルト:5)十分学習できていないときにこの値を調整する"
      ]
    },
    {
      "cell_type": "code",
      "metadata": {
        "id": "brta2e6pqcoz"
      },
      "source": [
        "from gensim.models import word2vec\n",
        "model = word2vec.Word2Vec(\n",
        "    word_list,\n",
        "    size=100,\n",
        "    min_count=5,\n",
        "    window=5,\n",
        "    iter=100\n",
        "  )"
      ],
      "execution_count": 84,
      "outputs": []
    },
    {
      "cell_type": "markdown",
      "metadata": {
        "id": "2nAD7Yf_qcoz"
      },
      "source": [
        "#### 4.10 「猫」という単語のベクトルを出力して下さい。"
      ]
    },
    {
      "cell_type": "code",
      "metadata": {
        "id": "xYEDm8yiqco0",
        "colab": {
          "base_uri": "https://localhost:8080/"
        },
        "outputId": "b0a72486-2819-4404-b53f-6d9c3808d42c"
      },
      "source": [
        "print(model.__dict__['wv']['猫'])"
      ],
      "execution_count": 88,
      "outputs": [
        {
          "output_type": "stream",
          "name": "stdout",
          "text": [
            "[-0.05019522 -0.11788126  0.11341928 -0.02521871  0.10513197  0.16733667\n",
            " -0.08366071 -0.07848777 -0.32286796  0.00164594  0.16380459 -0.32790825\n",
            "  0.25755835 -0.02599763 -0.37022865 -0.22791801  0.08074469  0.02641271\n",
            " -0.04862097 -0.01445318 -0.20348355 -0.22092909  0.18613824  0.0201055\n",
            "  0.2149427  -0.14443293  0.10658211  0.02015954  0.03569651  0.12405839\n",
            "  0.1363064  -0.17204905 -0.25229526 -0.00674781 -0.03240409 -0.16794029\n",
            " -0.04240664 -0.02067936  0.25649095  0.02262579 -0.0203278  -0.04913462\n",
            "  0.21264715 -0.11639852 -0.04152756  0.00563067  0.04270809  0.04727034\n",
            " -0.03996442  0.20006457  0.00124388 -0.05632925 -0.12795286  0.10979982\n",
            "  0.048687    0.07415409 -0.15888982  0.00329693  0.02291731  0.13039367\n",
            " -0.13694276  0.22068606 -0.2023187   0.232711    0.05333151  0.08618946\n",
            "  0.09587457  0.07937435 -0.10134506 -0.24961351  0.00296368 -0.03892026\n",
            " -0.10089226  0.03101641  0.02530717 -0.03989419  0.06050354  0.41326627\n",
            " -0.03747088  0.0559581  -0.15244704  0.17081204 -0.18574458 -0.2369701\n",
            "  0.00604324 -0.15222186  0.08063097  0.12000684  0.12884922 -0.34707105\n",
            "  0.00267043  0.21315359  0.05148124  0.04672392 -0.12785487  0.0374613\n",
            "  0.09438696 -0.14508593 -0.13376844 -0.20740265]\n"
          ]
        }
      ]
    },
    {
      "cell_type": "markdown",
      "metadata": {
        "id": "WxwXz9Nmqco0"
      },
      "source": [
        "#### 4.11 「猫」と類似度の高い語句を算出して下さい。※結果が一致する必要は有りません。今回は訓練データを制限しているので、精度は高く有りません。"
      ]
    },
    {
      "cell_type": "code",
      "metadata": {
        "id": "UGXQwSJZqco0",
        "colab": {
          "base_uri": "https://localhost:8080/"
        },
        "outputId": "d7306d86-2d96-4fe0-c0cf-f8a987df4d63"
      },
      "source": [
        "ret = model.wv.most_similar(positive=[\"猫\"])\n",
        "for item in ret:\n",
        "  print(item[0], item[1])"
      ],
      "execution_count": 89,
      "outputs": [
        {
          "output_type": "stream",
          "name": "stdout",
          "text": [
            "云う 0.999435544013977\n",
            "見える 0.9994165897369385\n",
            "方 0.9994142651557922\n",
            "所 0.999405026435852\n",
            "する 0.9994033575057983\n",
            "なる 0.9993908405303955\n",
            "彼 0.9993870258331299\n",
            "人 0.9993773698806763\n",
            "出す 0.9993462562561035\n",
            "来る 0.999344527721405\n"
          ]
        }
      ]
    },
    {
      "cell_type": "markdown",
      "metadata": {
        "id": "qk7VMZmfqco0"
      },
      "source": [
        "#### 4.12 今回訓練データを制限したため、精度はよく有りませんでしたが、他の学習済みモデルを用いてみましょう。"
      ]
    },
    {
      "cell_type": "markdown",
      "metadata": {
        "id": "VnHo1fSLqco0"
      },
      "source": [
        "#### 4.12.0 事前準備"
      ]
    },
    {
      "cell_type": "code",
      "metadata": {
        "scrolled": true,
        "id": "wnfmh0Swqco0",
        "colab": {
          "base_uri": "https://localhost:8080/"
        },
        "outputId": "891da351-2ef3-4952-938c-c83c51dd9e10"
      },
      "source": [
        "from gensim.models.word2vec import Word2Vec\n",
        "\n",
        "trained_model_path = './latest-ja-word2vec-gensim-model/word2vec.gensim.model'\n",
        "trained_model = Word2Vec.load(trained_model_path)"
      ],
      "execution_count": 90,
      "outputs": [
        {
          "output_type": "stream",
          "name": "stderr",
          "text": [
            "WARNING:gensim.models.base_any2vec:consider setting layer size to a multiple of 4 for greater performance\n"
          ]
        }
      ]
    },
    {
      "cell_type": "markdown",
      "metadata": {
        "id": "SrzY4woTqco0"
      },
      "source": [
        "#### 4.12.1 trained_modelを使用して、「猫」と類似度の高い語句を算出して下さい。"
      ]
    },
    {
      "cell_type": "code",
      "metadata": {
        "id": "KWShb_SFqco0",
        "colab": {
          "base_uri": "https://localhost:8080/"
        },
        "outputId": "0525f422-c7e7-4c21-c8f9-c059b98289e3"
      },
      "source": [
        "trained_model.most_similar(\"猫\")"
      ],
      "execution_count": 91,
      "outputs": [
        {
          "output_type": "execute_result",
          "data": {
            "text/plain": [
              "[('ネコ', 0.8973475694656372),\n",
              " ('ウサギ', 0.8950017094612122),\n",
              " ('犬', 0.8777391314506531),\n",
              " ('タヌキ', 0.8691234588623047),\n",
              " ('小鳥', 0.8644418120384216),\n",
              " ('クマ', 0.8631638288497925),\n",
              " ('赤ちゃん', 0.8595046401023865),\n",
              " ('ネズミ', 0.8567873239517212),\n",
              " ('飼い', 0.8533831238746643),\n",
              " ('黒猫', 0.853003978729248)]"
            ]
          },
          "metadata": {},
          "execution_count": 91
        }
      ]
    },
    {
      "cell_type": "markdown",
      "metadata": {
        "id": "275biH0mqco1"
      },
      "source": [
        "### 5. tf-idf計算方法"
      ]
    },
    {
      "cell_type": "markdown",
      "metadata": {
        "id": "pmeni0w8qco1"
      },
      "source": [
        "#### 5.0 事前準備"
      ]
    },
    {
      "cell_type": "code",
      "metadata": {
        "id": "7SI9RZ2oqco1"
      },
      "source": [
        "corpus = [\n",
        "    'This is the first document.',\n",
        "    'This document is the second document.',\n",
        "    'And this is the third one.',\n",
        "    'Is this the first document?'\n",
        "]"
      ],
      "execution_count": 92,
      "outputs": []
    },
    {
      "cell_type": "markdown",
      "metadata": {
        "id": "WnTDo8zsqco1"
      },
      "source": [
        "#### 5.1 TfidfVectorizerを「sklearn」から探して読み込んで下さい。"
      ]
    },
    {
      "cell_type": "code",
      "metadata": {
        "id": "sImZwCvmqco1",
        "colab": {
          "base_uri": "https://localhost:8080/"
        },
        "outputId": "b638296a-7dc0-4209-c06c-20f33e495004"
      },
      "source": [
        "from sklearn.feature_extraction.text import TfidfVectorizer\n",
        "TfidfVectorizer"
      ],
      "execution_count": 93,
      "outputs": [
        {
          "output_type": "execute_result",
          "data": {
            "text/plain": [
              "sklearn.feature_extraction.text.TfidfVectorizer"
            ]
          },
          "metadata": {},
          "execution_count": 93
        }
      ]
    },
    {
      "cell_type": "markdown",
      "metadata": {
        "id": "eBidq00Hqco1"
      },
      "source": [
        "#### 5.2 tfidfの転置行列を作成し、中身を表示して下さい。"
      ]
    },
    {
      "cell_type": "code",
      "metadata": {
        "id": "Fq6doLVQqco1",
        "colab": {
          "base_uri": "https://localhost:8080/"
        },
        "outputId": "35b68161-4db3-4776-ab1d-77053ff8b80e"
      },
      "source": [
        "tfidf = TfidfVectorizer()\n",
        "x = tfidf.fit_transform(corpus)\n",
        "print(x)"
      ],
      "execution_count": 99,
      "outputs": [
        {
          "output_type": "stream",
          "name": "stdout",
          "text": [
            "  (0, 1)\t0.46979138557992045\n",
            "  (0, 2)\t0.5802858236844359\n",
            "  (0, 6)\t0.38408524091481483\n",
            "  (0, 3)\t0.38408524091481483\n",
            "  (0, 8)\t0.38408524091481483\n",
            "  (1, 5)\t0.5386476208856763\n",
            "  (1, 1)\t0.6876235979836938\n",
            "  (1, 6)\t0.281088674033753\n",
            "  (1, 3)\t0.281088674033753\n",
            "  (1, 8)\t0.281088674033753\n",
            "  (2, 4)\t0.511848512707169\n",
            "  (2, 7)\t0.511848512707169\n",
            "  (2, 0)\t0.511848512707169\n",
            "  (2, 6)\t0.267103787642168\n",
            "  (2, 3)\t0.267103787642168\n",
            "  (2, 8)\t0.267103787642168\n",
            "  (3, 1)\t0.46979138557992045\n",
            "  (3, 2)\t0.5802858236844359\n",
            "  (3, 6)\t0.38408524091481483\n",
            "  (3, 3)\t0.38408524091481483\n",
            "  (3, 8)\t0.38408524091481483\n"
          ]
        }
      ]
    },
    {
      "cell_type": "markdown",
      "metadata": {
        "id": "6zEkMEf0qco1"
      },
      "source": [
        "#### 5.3 tfidfの値を文章毎に算出して下さい。"
      ]
    },
    {
      "cell_type": "code",
      "metadata": {
        "id": "qRqmEQyrqco2",
        "colab": {
          "base_uri": "https://localhost:8080/"
        },
        "outputId": "c24eeb76-d4c1-4014-86fa-3ec9f7d358e9"
      },
      "source": [
        "tfidf_value = pd.DataFrame(x.toarray(), columns=tfidf.get_feature_names_out())\n",
        "print(tfidf_value)"
      ],
      "execution_count": 101,
      "outputs": [
        {
          "output_type": "stream",
          "name": "stdout",
          "text": [
            "        and  document     first        is       one    second       the  \\\n",
            "0  0.000000  0.469791  0.580286  0.384085  0.000000  0.000000  0.384085   \n",
            "1  0.000000  0.687624  0.000000  0.281089  0.000000  0.538648  0.281089   \n",
            "2  0.511849  0.000000  0.000000  0.267104  0.511849  0.000000  0.267104   \n",
            "3  0.000000  0.469791  0.580286  0.384085  0.000000  0.000000  0.384085   \n",
            "\n",
            "      third      this  \n",
            "0  0.000000  0.384085  \n",
            "1  0.000000  0.281089  \n",
            "2  0.511849  0.267104  \n",
            "3  0.000000  0.384085  \n"
          ]
        }
      ]
    },
    {
      "cell_type": "markdown",
      "metadata": {
        "id": "BC3KGA-mqco2"
      },
      "source": [
        "#### 5.4 各文章の「tf-idf」を計算し、行列形式で文章類似度を算出して下さい。※cosine_similarityを使用して下さい。"
      ]
    },
    {
      "cell_type": "code",
      "metadata": {
        "id": "Qxmjjfgiqco2",
        "colab": {
          "base_uri": "https://localhost:8080/"
        },
        "outputId": "c3edb116-e5e2-4691-dcfc-e4849577001d"
      },
      "source": [
        "from sklearn.metrics.pairwise import cosine_similarity\n",
        "print(cosine_similarity(x))"
      ],
      "execution_count": 100,
      "outputs": [
        {
          "output_type": "stream",
          "name": "stdout",
          "text": [
            "[[1.         0.64692568 0.30777187 1.        ]\n",
            " [0.64692568 1.         0.22523955 0.64692568]\n",
            " [0.30777187 0.22523955 1.         0.30777187]\n",
            " [1.         0.64692568 0.30777187 1.        ]]\n"
          ]
        }
      ]
    }
  ]
}